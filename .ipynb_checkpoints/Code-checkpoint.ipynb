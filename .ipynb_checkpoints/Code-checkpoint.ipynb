{
 "cells": [
  {
   "cell_type": "code",
   "execution_count": 1,
   "metadata": {},
   "outputs": [
    {
     "data": {
      "text/html": [
       "<script type=\"text/javascript\">window.PlotlyConfig = {MathJaxConfig: 'local'};</script><script type=\"text/javascript\">if (window.MathJax) {MathJax.Hub.Config({SVG: {font: \"STIX-Web\"}});}</script><script>requirejs.config({paths: { 'plotly': ['https://cdn.plot.ly/plotly-latest.min']},});if(!window._Plotly) {require(['plotly'],function(plotly) {window._Plotly=plotly;});}</script>"
      ],
      "text/vnd.plotly.v1+html": [
       "<script type=\"text/javascript\">window.PlotlyConfig = {MathJaxConfig: 'local'};</script><script type=\"text/javascript\">if (window.MathJax) {MathJax.Hub.Config({SVG: {font: \"STIX-Web\"}});}</script><script>requirejs.config({paths: { 'plotly': ['https://cdn.plot.ly/plotly-latest.min']},});if(!window._Plotly) {require(['plotly'],function(plotly) {window._Plotly=plotly;});}</script>"
      ]
     },
     "metadata": {},
     "output_type": "display_data"
    }
   ],
   "source": [
    "import pandas as pd\n",
    "import numpy as np\n",
    "import plotly as py\n",
    "import plotly.graph_objs as go\n",
    "py.offline.init_notebook_mode(connected=True)"
   ]
  },
  {
   "cell_type": "code",
   "execution_count": 2,
   "metadata": {},
   "outputs": [],
   "source": [
    "economy_df = pd.read_excel('Data/country_classifications.xls',sheet_name=0,header=4)"
   ]
  },
  {
   "cell_type": "code",
   "execution_count": 3,
   "metadata": {},
   "outputs": [],
   "source": [
    "ed_df=pd.read_csv('Data/EDULIT_DS.csv')"
   ]
  },
  {
   "cell_type": "code",
   "execution_count": 51,
   "metadata": {},
   "outputs": [],
   "source": [
    "gapall=pd.read_csv('Data/GenderGapIndex.csv')\n",
    "gdp_all=pd.read_csv('Data/GDP_By_Country.csv',header=4)"
   ]
  },
  {
   "cell_type": "code",
   "execution_count": null,
   "metadata": {},
   "outputs": [],
   "source": []
  },
  {
   "cell_type": "code",
   "execution_count": 49,
   "metadata": {},
   "outputs": [],
   "source": [
    "stem_df=ed_df.loc[ed_df['Indicator']=='Percentage of graduates from Science, Technology , Engineering and Mathematics programmes in tertiary education who are female (%)']"
   ]
  },
  {
   "cell_type": "code",
   "execution_count": 53,
   "metadata": {},
   "outputs": [
    {
     "name": "stderr",
     "output_type": "stream",
     "text": [
      "C:\\Users\\mstos\\AppData\\Local\\Continuum\\anaconda3\\lib\\site-packages\\pandas\\core\\frame.py:3781: SettingWithCopyWarning:\n",
      "\n",
      "\n",
      "A value is trying to be set on a copy of a slice from a DataFrame\n",
      "\n",
      "See the caveats in the documentation: http://pandas.pydata.org/pandas-docs/stable/indexing.html#indexing-view-versus-copy\n",
      "\n"
     ]
    },
    {
     "data": {
      "text/html": [
       "<div>\n",
       "<style scoped>\n",
       "    .dataframe tbody tr th:only-of-type {\n",
       "        vertical-align: middle;\n",
       "    }\n",
       "\n",
       "    .dataframe tbody tr th {\n",
       "        vertical-align: top;\n",
       "    }\n",
       "\n",
       "    .dataframe thead th {\n",
       "        text-align: right;\n",
       "    }\n",
       "</style>\n",
       "<table border=\"1\" class=\"dataframe\">\n",
       "  <thead>\n",
       "    <tr style=\"text-align: right;\">\n",
       "      <th></th>\n",
       "      <th>EDULIT_IND</th>\n",
       "      <th>Indicator</th>\n",
       "      <th>LOCATION</th>\n",
       "      <th>Country Name</th>\n",
       "      <th>TIME</th>\n",
       "      <th>Time</th>\n",
       "      <th>Value</th>\n",
       "      <th>Flag Codes</th>\n",
       "      <th>Flags</th>\n",
       "    </tr>\n",
       "  </thead>\n",
       "  <tbody>\n",
       "    <tr>\n",
       "      <th>5003</th>\n",
       "      <td>FGP_5T8_F500600700</td>\n",
       "      <td>Percentage of graduates from Science, Technolo...</td>\n",
       "      <td>AUT</td>\n",
       "      <td>Austria</td>\n",
       "      <td>2016</td>\n",
       "      <td>2016</td>\n",
       "      <td>25.90260</td>\n",
       "      <td>NaN</td>\n",
       "      <td>NaN</td>\n",
       "    </tr>\n",
       "    <tr>\n",
       "      <th>5008</th>\n",
       "      <td>FGP_5T8_F500600700</td>\n",
       "      <td>Percentage of graduates from Science, Technolo...</td>\n",
       "      <td>BEL</td>\n",
       "      <td>Belgium</td>\n",
       "      <td>2016</td>\n",
       "      <td>2016</td>\n",
       "      <td>27.48167</td>\n",
       "      <td>NaN</td>\n",
       "      <td>NaN</td>\n",
       "    </tr>\n",
       "    <tr>\n",
       "      <th>5012</th>\n",
       "      <td>FGP_5T8_F500600700</td>\n",
       "      <td>Percentage of graduates from Science, Technolo...</td>\n",
       "      <td>CAN</td>\n",
       "      <td>Canada</td>\n",
       "      <td>2016</td>\n",
       "      <td>2016</td>\n",
       "      <td>31.42950</td>\n",
       "      <td>+</td>\n",
       "      <td>National Estimation</td>\n",
       "    </tr>\n",
       "    <tr>\n",
       "      <th>5017</th>\n",
       "      <td>FGP_5T8_F500600700</td>\n",
       "      <td>Percentage of graduates from Science, Technolo...</td>\n",
       "      <td>CZE</td>\n",
       "      <td>Czechia</td>\n",
       "      <td>2016</td>\n",
       "      <td>2016</td>\n",
       "      <td>35.37918</td>\n",
       "      <td>NaN</td>\n",
       "      <td>NaN</td>\n",
       "    </tr>\n",
       "    <tr>\n",
       "      <th>5022</th>\n",
       "      <td>FGP_5T8_F500600700</td>\n",
       "      <td>Percentage of graduates from Science, Technolo...</td>\n",
       "      <td>DNK</td>\n",
       "      <td>Denmark</td>\n",
       "      <td>2016</td>\n",
       "      <td>2016</td>\n",
       "      <td>33.65038</td>\n",
       "      <td>NaN</td>\n",
       "      <td>NaN</td>\n",
       "    </tr>\n",
       "  </tbody>\n",
       "</table>\n",
       "</div>"
      ],
      "text/plain": [
       "              EDULIT_IND                                          Indicator  \\\n",
       "5003  FGP_5T8_F500600700  Percentage of graduates from Science, Technolo...   \n",
       "5008  FGP_5T8_F500600700  Percentage of graduates from Science, Technolo...   \n",
       "5012  FGP_5T8_F500600700  Percentage of graduates from Science, Technolo...   \n",
       "5017  FGP_5T8_F500600700  Percentage of graduates from Science, Technolo...   \n",
       "5022  FGP_5T8_F500600700  Percentage of graduates from Science, Technolo...   \n",
       "\n",
       "     LOCATION Country Name  TIME  Time     Value Flag Codes  \\\n",
       "5003      AUT      Austria  2016  2016  25.90260        NaN   \n",
       "5008      BEL      Belgium  2016  2016  27.48167        NaN   \n",
       "5012      CAN       Canada  2016  2016  31.42950          +   \n",
       "5017      CZE      Czechia  2016  2016  35.37918        NaN   \n",
       "5022      DNK      Denmark  2016  2016  33.65038        NaN   \n",
       "\n",
       "                    Flags  \n",
       "5003                  NaN  \n",
       "5008                  NaN  \n",
       "5012  National Estimation  \n",
       "5017                  NaN  \n",
       "5022                  NaN  "
      ]
     },
     "execution_count": 53,
     "metadata": {},
     "output_type": "execute_result"
    }
   ],
   "source": [
    "stem_2016=stem_df[stem_df['Time']==2016]\n",
    "stem_2016.rename(columns={'Country':'Country Name'},inplace=True)\n",
    "stem_2016.head()"
   ]
  },
  {
   "cell_type": "code",
   "execution_count": 7,
   "metadata": {},
   "outputs": [],
   "source": [
    "# stem_df=stem_df.pivot(index='Country',columns='Time',values='Value')"
   ]
  },
  {
   "cell_type": "code",
   "execution_count": 8,
   "metadata": {},
   "outputs": [],
   "source": [
    "# stem_df.drop(columns={2017},inplace=True)"
   ]
  },
  {
   "cell_type": "code",
   "execution_count": 9,
   "metadata": {},
   "outputs": [],
   "source": [
    "# stem_df.groupby(['Country'])['Time'].min()"
   ]
  },
  {
   "cell_type": "code",
   "execution_count": 12,
   "metadata": {},
   "outputs": [],
   "source": [
    "economy_df.dropna(axis=0,how='all',inplace=True)\n",
    "economy_df.reset_index(inplace=True)\n",
    "economy_df.dropna(axis=1,how='all',inplace=True)\n",
    "economy_df.drop(columns={'level_0'},inplace=True)\n",
    "economy_df.rename(columns={'Economy':'Country Name'},inplace=True)"
   ]
  },
  {
   "cell_type": "code",
   "execution_count": 13,
   "metadata": {},
   "outputs": [
    {
     "data": {
      "text/html": [
       "<div>\n",
       "<style scoped>\n",
       "    .dataframe tbody tr th:only-of-type {\n",
       "        vertical-align: middle;\n",
       "    }\n",
       "\n",
       "    .dataframe tbody tr th {\n",
       "        vertical-align: top;\n",
       "    }\n",
       "\n",
       "    .dataframe thead th {\n",
       "        text-align: right;\n",
       "    }\n",
       "</style>\n",
       "<table border=\"1\" class=\"dataframe\">\n",
       "  <thead>\n",
       "    <tr style=\"text-align: right;\">\n",
       "      <th></th>\n",
       "      <th>Country Name</th>\n",
       "      <th>Code</th>\n",
       "      <th>Region</th>\n",
       "      <th>Income group</th>\n",
       "      <th>Lending category</th>\n",
       "      <th>Other</th>\n",
       "    </tr>\n",
       "  </thead>\n",
       "  <tbody>\n",
       "    <tr>\n",
       "      <th>0</th>\n",
       "      <td>Afghanistan</td>\n",
       "      <td>AFG</td>\n",
       "      <td>South Asia</td>\n",
       "      <td>Low income</td>\n",
       "      <td>IDA</td>\n",
       "      <td>HIPC</td>\n",
       "    </tr>\n",
       "    <tr>\n",
       "      <th>1</th>\n",
       "      <td>Albania</td>\n",
       "      <td>ALB</td>\n",
       "      <td>Europe &amp; Central Asia</td>\n",
       "      <td>Upper middle income</td>\n",
       "      <td>IBRD</td>\n",
       "      <td>NaN</td>\n",
       "    </tr>\n",
       "    <tr>\n",
       "      <th>2</th>\n",
       "      <td>Algeria</td>\n",
       "      <td>DZA</td>\n",
       "      <td>Middle East &amp; North Africa</td>\n",
       "      <td>Upper middle income</td>\n",
       "      <td>IBRD</td>\n",
       "      <td>NaN</td>\n",
       "    </tr>\n",
       "    <tr>\n",
       "      <th>3</th>\n",
       "      <td>American Samoa</td>\n",
       "      <td>ASM</td>\n",
       "      <td>East Asia &amp; Pacific</td>\n",
       "      <td>Upper middle income</td>\n",
       "      <td>..</td>\n",
       "      <td>NaN</td>\n",
       "    </tr>\n",
       "    <tr>\n",
       "      <th>4</th>\n",
       "      <td>Andorra</td>\n",
       "      <td>ADO</td>\n",
       "      <td>Europe &amp; Central Asia</td>\n",
       "      <td>High income</td>\n",
       "      <td>..</td>\n",
       "      <td>NaN</td>\n",
       "    </tr>\n",
       "  </tbody>\n",
       "</table>\n",
       "</div>"
      ],
      "text/plain": [
       "     Country Name Code                      Region         Income group  \\\n",
       "0     Afghanistan  AFG                  South Asia           Low income   \n",
       "1         Albania  ALB       Europe & Central Asia  Upper middle income   \n",
       "2         Algeria  DZA  Middle East & North Africa  Upper middle income   \n",
       "3  American Samoa  ASM         East Asia & Pacific  Upper middle income   \n",
       "4         Andorra  ADO       Europe & Central Asia          High income   \n",
       "\n",
       "  Lending category Other  \n",
       "0              IDA  HIPC  \n",
       "1             IBRD   NaN  \n",
       "2             IBRD   NaN  \n",
       "3               ..   NaN  \n",
       "4               ..   NaN  "
      ]
     },
     "execution_count": 13,
     "metadata": {},
     "output_type": "execute_result"
    }
   ],
   "source": [
    "stem_2016=stem_2016.merge(economy_df,on=)"
   ]
  },
  {
   "cell_type": "code",
   "execution_count": 14,
   "metadata": {},
   "outputs": [],
   "source": [
    "overall_gendergap=gapall.loc[gapall['Indicator']=='Overall Global Gender Gap Index',:]\n",
    "overall_gendergap=overall_gendergap.loc[overall_gendergap['Subindicator Type']=='Index',:]"
   ]
  },
  {
   "cell_type": "code",
   "execution_count": 15,
   "metadata": {},
   "outputs": [
    {
     "data": {
      "text/html": [
       "<div>\n",
       "<style scoped>\n",
       "    .dataframe tbody tr th:only-of-type {\n",
       "        vertical-align: middle;\n",
       "    }\n",
       "\n",
       "    .dataframe tbody tr th {\n",
       "        vertical-align: top;\n",
       "    }\n",
       "\n",
       "    .dataframe thead th {\n",
       "        text-align: right;\n",
       "    }\n",
       "</style>\n",
       "<table border=\"1\" class=\"dataframe\">\n",
       "  <thead>\n",
       "    <tr style=\"text-align: right;\">\n",
       "      <th></th>\n",
       "      <th>Country ISO3</th>\n",
       "      <th>Country Name</th>\n",
       "      <th>Indicator</th>\n",
       "      <th>Subindicator Type</th>\n",
       "      <th>2006</th>\n",
       "      <th>2007</th>\n",
       "      <th>2008</th>\n",
       "      <th>2009</th>\n",
       "      <th>2010</th>\n",
       "      <th>2011</th>\n",
       "      <th>2012</th>\n",
       "      <th>2013</th>\n",
       "      <th>2014</th>\n",
       "      <th>2015</th>\n",
       "      <th>2016</th>\n",
       "    </tr>\n",
       "  </thead>\n",
       "  <tbody>\n",
       "    <tr>\n",
       "      <th>8</th>\n",
       "      <td>AGO</td>\n",
       "      <td>Angola</td>\n",
       "      <td>Overall Global Gender Gap Index</td>\n",
       "      <td>Index</td>\n",
       "      <td>0.6038</td>\n",
       "      <td>0.6034</td>\n",
       "      <td>0.6032</td>\n",
       "      <td>0.6353</td>\n",
       "      <td>0.6712</td>\n",
       "      <td>0.6624</td>\n",
       "      <td>NaN</td>\n",
       "      <td>0.6659</td>\n",
       "      <td>0.6311</td>\n",
       "      <td>0.637</td>\n",
       "      <td>0.643</td>\n",
       "    </tr>\n",
       "    <tr>\n",
       "      <th>21</th>\n",
       "      <td>ALB</td>\n",
       "      <td>Albania</td>\n",
       "      <td>Overall Global Gender Gap Index</td>\n",
       "      <td>Index</td>\n",
       "      <td>0.6607</td>\n",
       "      <td>0.6685</td>\n",
       "      <td>0.6591</td>\n",
       "      <td>0.6601</td>\n",
       "      <td>0.6726</td>\n",
       "      <td>0.6748</td>\n",
       "      <td>0.6655</td>\n",
       "      <td>0.6412</td>\n",
       "      <td>0.6869</td>\n",
       "      <td>0.701</td>\n",
       "      <td>0.704</td>\n",
       "    </tr>\n",
       "    <tr>\n",
       "      <th>34</th>\n",
       "      <td>ARE</td>\n",
       "      <td>United Arab Emirates</td>\n",
       "      <td>Overall Global Gender Gap Index</td>\n",
       "      <td>Index</td>\n",
       "      <td>0.5919</td>\n",
       "      <td>0.6184</td>\n",
       "      <td>0.6220</td>\n",
       "      <td>0.6198</td>\n",
       "      <td>0.6397</td>\n",
       "      <td>0.6454</td>\n",
       "      <td>0.6392</td>\n",
       "      <td>0.6372</td>\n",
       "      <td>0.6436</td>\n",
       "      <td>0.646</td>\n",
       "      <td>0.639</td>\n",
       "    </tr>\n",
       "    <tr>\n",
       "      <th>47</th>\n",
       "      <td>ARG</td>\n",
       "      <td>Argentina</td>\n",
       "      <td>Overall Global Gender Gap Index</td>\n",
       "      <td>Index</td>\n",
       "      <td>0.6829</td>\n",
       "      <td>0.6982</td>\n",
       "      <td>0.7209</td>\n",
       "      <td>0.7211</td>\n",
       "      <td>0.7187</td>\n",
       "      <td>0.7236</td>\n",
       "      <td>0.7212</td>\n",
       "      <td>0.7195</td>\n",
       "      <td>0.7317</td>\n",
       "      <td>0.734</td>\n",
       "      <td>0.735</td>\n",
       "    </tr>\n",
       "    <tr>\n",
       "      <th>60</th>\n",
       "      <td>ARM</td>\n",
       "      <td>Armenia</td>\n",
       "      <td>Overall Global Gender Gap Index</td>\n",
       "      <td>Index</td>\n",
       "      <td>NaN</td>\n",
       "      <td>0.6651</td>\n",
       "      <td>0.6677</td>\n",
       "      <td>0.6619</td>\n",
       "      <td>0.6669</td>\n",
       "      <td>0.6654</td>\n",
       "      <td>0.6636</td>\n",
       "      <td>0.6634</td>\n",
       "      <td>0.6622</td>\n",
       "      <td>0.668</td>\n",
       "      <td>0.669</td>\n",
       "    </tr>\n",
       "  </tbody>\n",
       "</table>\n",
       "</div>"
      ],
      "text/plain": [
       "   Country ISO3          Country Name                        Indicator  \\\n",
       "8           AGO                Angola  Overall Global Gender Gap Index   \n",
       "21          ALB               Albania  Overall Global Gender Gap Index   \n",
       "34          ARE  United Arab Emirates  Overall Global Gender Gap Index   \n",
       "47          ARG             Argentina  Overall Global Gender Gap Index   \n",
       "60          ARM               Armenia  Overall Global Gender Gap Index   \n",
       "\n",
       "   Subindicator Type    2006    2007    2008    2009    2010    2011    2012  \\\n",
       "8              Index  0.6038  0.6034  0.6032  0.6353  0.6712  0.6624     NaN   \n",
       "21             Index  0.6607  0.6685  0.6591  0.6601  0.6726  0.6748  0.6655   \n",
       "34             Index  0.5919  0.6184  0.6220  0.6198  0.6397  0.6454  0.6392   \n",
       "47             Index  0.6829  0.6982  0.7209  0.7211  0.7187  0.7236  0.7212   \n",
       "60             Index     NaN  0.6651  0.6677  0.6619  0.6669  0.6654  0.6636   \n",
       "\n",
       "      2013    2014   2015   2016  \n",
       "8   0.6659  0.6311  0.637  0.643  \n",
       "21  0.6412  0.6869  0.701  0.704  \n",
       "34  0.6372  0.6436  0.646  0.639  \n",
       "47  0.7195  0.7317  0.734  0.735  \n",
       "60  0.6634  0.6622  0.668  0.669  "
      ]
     },
     "execution_count": 15,
     "metadata": {},
     "output_type": "execute_result"
    }
   ],
   "source": [
    "overall_gendergap.head(10)\n",
    "countries = overall_gendergap['Country Name'].unique()\n",
    "overall_gendergap.head()"
   ]
  },
  {
   "cell_type": "code",
   "execution_count": 16,
   "metadata": {},
   "outputs": [
    {
     "data": {
      "text/html": [
       "<div>\n",
       "<style scoped>\n",
       "    .dataframe tbody tr th:only-of-type {\n",
       "        vertical-align: middle;\n",
       "    }\n",
       "\n",
       "    .dataframe tbody tr th {\n",
       "        vertical-align: top;\n",
       "    }\n",
       "\n",
       "    .dataframe thead th {\n",
       "        text-align: right;\n",
       "    }\n",
       "</style>\n",
       "<table border=\"1\" class=\"dataframe\">\n",
       "  <thead>\n",
       "    <tr style=\"text-align: right;\">\n",
       "      <th>Country Name</th>\n",
       "      <th>Angola</th>\n",
       "      <th>Albania</th>\n",
       "      <th>United Arab Emirates</th>\n",
       "      <th>Argentina</th>\n",
       "      <th>Armenia</th>\n",
       "      <th>Australia</th>\n",
       "      <th>Austria</th>\n",
       "      <th>Azerbaijan</th>\n",
       "      <th>Burundi</th>\n",
       "      <th>Belgium</th>\n",
       "      <th>...</th>\n",
       "      <th>Ukraine</th>\n",
       "      <th>Uruguay</th>\n",
       "      <th>United States</th>\n",
       "      <th>Uzbekistan</th>\n",
       "      <th>Venezuela, RB</th>\n",
       "      <th>Vietnam</th>\n",
       "      <th>Yemen, Rep.</th>\n",
       "      <th>South Africa</th>\n",
       "      <th>Zambia</th>\n",
       "      <th>Zimbabwe</th>\n",
       "    </tr>\n",
       "  </thead>\n",
       "  <tbody>\n",
       "    <tr>\n",
       "      <th>2006</th>\n",
       "      <td>0.6038</td>\n",
       "      <td>0.6607</td>\n",
       "      <td>0.5919</td>\n",
       "      <td>0.6829</td>\n",
       "      <td>NaN</td>\n",
       "      <td>0.7163</td>\n",
       "      <td>0.6986</td>\n",
       "      <td>NaN</td>\n",
       "      <td>NaN</td>\n",
       "      <td>0.7078</td>\n",
       "      <td>...</td>\n",
       "      <td>0.6797</td>\n",
       "      <td>0.6550</td>\n",
       "      <td>0.7042</td>\n",
       "      <td>0.6886</td>\n",
       "      <td>0.6664</td>\n",
       "      <td>NaN</td>\n",
       "      <td>0.4594</td>\n",
       "      <td>0.7125</td>\n",
       "      <td>0.6358</td>\n",
       "      <td>0.6460</td>\n",
       "    </tr>\n",
       "    <tr>\n",
       "      <th>2007</th>\n",
       "      <td>0.6034</td>\n",
       "      <td>0.6685</td>\n",
       "      <td>0.6184</td>\n",
       "      <td>0.6982</td>\n",
       "      <td>0.6651</td>\n",
       "      <td>0.7204</td>\n",
       "      <td>0.7060</td>\n",
       "      <td>0.6781</td>\n",
       "      <td>NaN</td>\n",
       "      <td>0.7198</td>\n",
       "      <td>...</td>\n",
       "      <td>0.6790</td>\n",
       "      <td>0.6608</td>\n",
       "      <td>0.7002</td>\n",
       "      <td>0.6921</td>\n",
       "      <td>0.6797</td>\n",
       "      <td>0.6889</td>\n",
       "      <td>0.4510</td>\n",
       "      <td>0.7194</td>\n",
       "      <td>0.6288</td>\n",
       "      <td>0.6464</td>\n",
       "    </tr>\n",
       "    <tr>\n",
       "      <th>2008</th>\n",
       "      <td>0.6032</td>\n",
       "      <td>0.6591</td>\n",
       "      <td>0.6220</td>\n",
       "      <td>0.7209</td>\n",
       "      <td>0.6677</td>\n",
       "      <td>0.7241</td>\n",
       "      <td>0.7153</td>\n",
       "      <td>0.6856</td>\n",
       "      <td>NaN</td>\n",
       "      <td>0.7163</td>\n",
       "      <td>...</td>\n",
       "      <td>0.6856</td>\n",
       "      <td>0.6907</td>\n",
       "      <td>0.7179</td>\n",
       "      <td>0.6906</td>\n",
       "      <td>0.6875</td>\n",
       "      <td>0.6778</td>\n",
       "      <td>0.4664</td>\n",
       "      <td>0.7232</td>\n",
       "      <td>0.6205</td>\n",
       "      <td>0.6485</td>\n",
       "    </tr>\n",
       "    <tr>\n",
       "      <th>2009</th>\n",
       "      <td>0.6353</td>\n",
       "      <td>0.6601</td>\n",
       "      <td>0.6198</td>\n",
       "      <td>0.7211</td>\n",
       "      <td>0.6619</td>\n",
       "      <td>0.7282</td>\n",
       "      <td>0.7031</td>\n",
       "      <td>0.6626</td>\n",
       "      <td>NaN</td>\n",
       "      <td>0.7165</td>\n",
       "      <td>...</td>\n",
       "      <td>0.6896</td>\n",
       "      <td>0.6936</td>\n",
       "      <td>0.7173</td>\n",
       "      <td>0.6913</td>\n",
       "      <td>0.6839</td>\n",
       "      <td>0.6802</td>\n",
       "      <td>0.4609</td>\n",
       "      <td>0.7709</td>\n",
       "      <td>0.6310</td>\n",
       "      <td>0.6518</td>\n",
       "    </tr>\n",
       "    <tr>\n",
       "      <th>2010</th>\n",
       "      <td>0.6712</td>\n",
       "      <td>0.6726</td>\n",
       "      <td>0.6397</td>\n",
       "      <td>0.7187</td>\n",
       "      <td>0.6669</td>\n",
       "      <td>0.7271</td>\n",
       "      <td>0.7091</td>\n",
       "      <td>0.6446</td>\n",
       "      <td>NaN</td>\n",
       "      <td>0.7509</td>\n",
       "      <td>...</td>\n",
       "      <td>0.6869</td>\n",
       "      <td>0.6897</td>\n",
       "      <td>0.7411</td>\n",
       "      <td>NaN</td>\n",
       "      <td>0.6863</td>\n",
       "      <td>0.6776</td>\n",
       "      <td>0.4603</td>\n",
       "      <td>0.7535</td>\n",
       "      <td>0.6293</td>\n",
       "      <td>0.6574</td>\n",
       "    </tr>\n",
       "  </tbody>\n",
       "</table>\n",
       "<p>5 rows × 148 columns</p>\n",
       "</div>"
      ],
      "text/plain": [
       "Country Name  Angola  Albania  United Arab Emirates  Argentina  Armenia  \\\n",
       "2006          0.6038   0.6607                0.5919     0.6829      NaN   \n",
       "2007          0.6034   0.6685                0.6184     0.6982   0.6651   \n",
       "2008          0.6032   0.6591                0.6220     0.7209   0.6677   \n",
       "2009          0.6353   0.6601                0.6198     0.7211   0.6619   \n",
       "2010          0.6712   0.6726                0.6397     0.7187   0.6669   \n",
       "\n",
       "Country Name  Australia  Austria  Azerbaijan  Burundi  Belgium    ...     \\\n",
       "2006             0.7163   0.6986         NaN      NaN   0.7078    ...      \n",
       "2007             0.7204   0.7060      0.6781      NaN   0.7198    ...      \n",
       "2008             0.7241   0.7153      0.6856      NaN   0.7163    ...      \n",
       "2009             0.7282   0.7031      0.6626      NaN   0.7165    ...      \n",
       "2010             0.7271   0.7091      0.6446      NaN   0.7509    ...      \n",
       "\n",
       "Country Name  Ukraine  Uruguay  United States  Uzbekistan  Venezuela, RB  \\\n",
       "2006           0.6797   0.6550         0.7042      0.6886         0.6664   \n",
       "2007           0.6790   0.6608         0.7002      0.6921         0.6797   \n",
       "2008           0.6856   0.6907         0.7179      0.6906         0.6875   \n",
       "2009           0.6896   0.6936         0.7173      0.6913         0.6839   \n",
       "2010           0.6869   0.6897         0.7411         NaN         0.6863   \n",
       "\n",
       "Country Name  Vietnam  Yemen, Rep.  South Africa  Zambia  Zimbabwe  \n",
       "2006              NaN       0.4594        0.7125  0.6358    0.6460  \n",
       "2007           0.6889       0.4510        0.7194  0.6288    0.6464  \n",
       "2008           0.6778       0.4664        0.7232  0.6205    0.6485  \n",
       "2009           0.6802       0.4609        0.7709  0.6310    0.6518  \n",
       "2010           0.6776       0.4603        0.7535  0.6293    0.6574  \n",
       "\n",
       "[5 rows x 148 columns]"
      ]
     },
     "execution_count": 16,
     "metadata": {},
     "output_type": "execute_result"
    }
   ],
   "source": [
    "overall_gendergap=overall_gendergap.drop(columns={'Country ISO3','Indicator','Subindicator Type'})\n",
    "overall_gendergap.set_index('Country Name',inplace=True)\n",
    "overall_clean=overall_gendergap.transpose()\n",
    "overall_clean.head()\n"
   ]
  },
  {
   "cell_type": "code",
   "execution_count": 17,
   "metadata": {},
   "outputs": [],
   "source": [
    "bubble_countries=overall_gendergap.merge(economy_df,on='Country Name',how='inner')"
   ]
  },
  {
   "cell_type": "code",
   "execution_count": 18,
   "metadata": {},
   "outputs": [],
   "source": [
    "bubble_countries=bubble_countries.merge(gdp_all,on='Country Name',how='inner',suffixes=('_gendergap','_gdp'))\n"
   ]
  },
  {
   "cell_type": "code",
   "execution_count": 19,
   "metadata": {},
   "outputs": [],
   "source": [
    "bubble_countries.set_index('Country Name',inplace=True)"
   ]
  },
  {
   "cell_type": "code",
   "execution_count": 20,
   "metadata": {},
   "outputs": [],
   "source": [
    "countries=gapall['Country Name'].unique()"
   ]
  },
  {
   "cell_type": "code",
   "execution_count": 29,
   "metadata": {},
   "outputs": [],
   "source": [
    "francegender=bubble_countries.loc['France',{'2012_gendergap','2013_gendergap','2014_gendergap','2015_gendergap','2016_gendergap'}]"
   ]
  },
  {
   "cell_type": "code",
   "execution_count": 35,
   "metadata": {},
   "outputs": [],
   "source": [
    "francegdp=bubble_countries.loc['France',{'2012_gdp','2013_gdp','2014_gdp','2015_gdp','2016_gdp'}]"
   ]
  },
  {
   "cell_type": "code",
   "execution_count": 23,
   "metadata": {},
   "outputs": [],
   "source": [
    "francestem=stem_df.loc['France']"
   ]
  },
  {
   "cell_type": "code",
   "execution_count": null,
   "metadata": {},
   "outputs": [],
   "source": [
    "trace0 = go.Scatter(\n",
    "    x=df_2007['gdpPercap'][df_2007['continent'] == 'Africa'],\n",
    "    y=df_2007['lifeExp'][df_2007['continent'] == 'Africa'],\n",
    "    mode='markers',\n",
    "    name='Africa',\n",
    "    text=df_2007['text'][df_2007['continent'] == 'Africa'],\n",
    "    marker=dict(\n",
    "        symbol='circle',\n",
    "        sizemode='area',\n",
    "        sizeref=sizeref,\n",
    "        size=df_2007['size'][df_2007['continent'] == 'Africa'],\n",
    "        line=dict(\n",
    "            width=2\n",
    "        ),\n",
    "    )\n",
    ")"
   ]
  },
  {
   "cell_type": "code",
   "execution_count": 44,
   "metadata": {},
   "outputs": [
    {
     "data": {
      "application/vnd.plotly.v1+json": {
       "config": {
        "linkText": "Export to plot.ly",
        "plotlyServerURL": "https://plot.ly",
        "showLink": true
       },
       "data": [
        {
         "marker": {
          "opacity": 0.5,
          "size": [
           28.1108,
           24.6513,
           24.3821,
           2.68383e-05,
           28.5217
          ]
         },
         "mode": "markers",
         "type": "scatter",
         "uid": "1ab4c82e-6ce6-4822-86cd-3c2921574f50",
         "x": [
          30.32746,
          30.8101,
          30.56737,
          31.23152,
          31.805640000000004
         ],
         "y": [
          0.7609999999999999,
          0.755,
          0.7588,
          0.6984,
          0.7089
         ]
        }
       ],
       "layout": {
        "xaxis": {
         "range": [
          0,
          100
         ]
        },
        "yaxis": {
         "range": [
          0,
          1
         ]
        }
       }
      },
      "text/html": [
       "<div id=\"bf3538af-75c9-4268-9ee3-e170ffcd857e\" style=\"height: 525px; width: 100%;\" class=\"plotly-graph-div\"></div><script type=\"text/javascript\">require([\"plotly\"], function(Plotly) { window.PLOTLYENV=window.PLOTLYENV || {};window.PLOTLYENV.BASE_URL=\"https://plot.ly\";Plotly.newPlot(\"bf3538af-75c9-4268-9ee3-e170ffcd857e\", [{\"marker\": {\"opacity\": 0.5, \"size\": [28.1108, 24.6513, 24.3821, 2.68383e-05, 28.5217]}, \"mode\": \"markers\", \"x\": [30.32746, 30.8101, 30.56737, 31.23152, 31.805640000000004], \"y\": [0.7609999999999999, 0.755, 0.7588, 0.6984, 0.7089], \"type\": \"scatter\", \"uid\": \"1ab4c82e-6ce6-4822-86cd-3c2921574f50\"}], {\"xaxis\": {\"range\": [0, 100]}, \"yaxis\": {\"range\": [0, 1]}}, {\"showLink\": true, \"linkText\": \"Export to plot.ly\", \"plotlyServerURL\": \"https://plot.ly\"})});</script><script type=\"text/javascript\">window.addEventListener(\"resize\", function(){window._Plotly.Plots.resize(document.getElementById(\"bf3538af-75c9-4268-9ee3-e170ffcd857e\"));});</script>"
      ],
      "text/vnd.plotly.v1+html": [
       "<div id=\"bf3538af-75c9-4268-9ee3-e170ffcd857e\" style=\"height: 525px; width: 100%;\" class=\"plotly-graph-div\"></div><script type=\"text/javascript\">require([\"plotly\"], function(Plotly) { window.PLOTLYENV=window.PLOTLYENV || {};window.PLOTLYENV.BASE_URL=\"https://plot.ly\";Plotly.newPlot(\"bf3538af-75c9-4268-9ee3-e170ffcd857e\", [{\"marker\": {\"opacity\": 0.5, \"size\": [28.1108, 24.6513, 24.3821, 2.68383e-05, 28.5217]}, \"mode\": \"markers\", \"x\": [30.32746, 30.8101, 30.56737, 31.23152, 31.805640000000004], \"y\": [0.7609999999999999, 0.755, 0.7588, 0.6984, 0.7089], \"type\": \"scatter\", \"uid\": \"1ab4c82e-6ce6-4822-86cd-3c2921574f50\"}], {\"xaxis\": {\"range\": [0, 100]}, \"yaxis\": {\"range\": [0, 1]}}, {\"showLink\": true, \"linkText\": \"Export to plot.ly\", \"plotlyServerURL\": \"https://plot.ly\"})});</script><script type=\"text/javascript\">window.addEventListener(\"resize\", function(){window._Plotly.Plots.resize(document.getElementById(\"bf3538af-75c9-4268-9ee3-e170ffcd857e\"));});</script>"
      ]
     },
     "metadata": {},
     "output_type": "display_data"
    }
   ],
   "source": [
    "trace1=go.Scatter(\n",
    "        y=francegender,\n",
    "        x=francestem,\n",
    "        mode='markers',\n",
    "        marker=dict(\n",
    "            size=francegdp/100000000000,\n",
    "            opacity=0.5))\n",
    "data=[trace1]\n",
    "layout= go.Layout(\n",
    "    xaxis=dict(\n",
    "        range=[0,100]),\n",
    "    yaxis=dict(\n",
    "        range=[0,1]),\n",
    "    )\n",
    "\n",
    "fig=go.Figure(data=data,layout=layout)\n",
    "py.offline.iplot(fig)\n",
    "\n",
    "    \n",
    "# bubble_countries.loc[bubble_countries['Country Name']=='Angola',['2006_gendergap']]"
   ]
  },
  {
   "cell_type": "code",
   "execution_count": 25,
   "metadata": {},
   "outputs": [],
   "source": [
    "overall_clean.reset_index(inplace=True)\n"
   ]
  },
  {
   "cell_type": "code",
   "execution_count": 26,
   "metadata": {},
   "outputs": [],
   "source": [
    "years=[2006,2007,2008,2009,2010,2011,2012,2013,2014,2015,2016]"
   ]
  },
  {
   "cell_type": "code",
   "execution_count": 27,
   "metadata": {},
   "outputs": [],
   "source": [
    "# data=[]\n",
    "# for country in countries:\n",
    "#     trace1=go.Scatter(\n",
    "#         x=years,\n",
    "#         y=overall_clean['{}'.format(country)],\n",
    "#         mode='lines',\n",
    "#         name='{}'.format(country))\n",
    "#     data.append(trace1)\n",
    "\n",
    "# py.offline.iplot(data)"
   ]
  },
  {
   "cell_type": "code",
   "execution_count": null,
   "metadata": {},
   "outputs": [],
   "source": []
  },
  {
   "cell_type": "code",
   "execution_count": null,
   "metadata": {},
   "outputs": [],
   "source": []
  }
 ],
 "metadata": {
  "kernelspec": {
   "display_name": "Python 3",
   "language": "python",
   "name": "python3"
  },
  "language_info": {
   "codemirror_mode": {
    "name": "ipython",
    "version": 3
   },
   "file_extension": ".py",
   "mimetype": "text/x-python",
   "name": "python",
   "nbconvert_exporter": "python",
   "pygments_lexer": "ipython3",
   "version": "3.7.0"
  }
 },
 "nbformat": 4,
 "nbformat_minor": 2
}
