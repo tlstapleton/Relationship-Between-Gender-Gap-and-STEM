{
 "cells": [
  {
   "cell_type": "code",
   "execution_count": 1,
   "metadata": {},
   "outputs": [
    {
     "data": {
      "text/html": [
       "<script type=\"text/javascript\">window.PlotlyConfig = {MathJaxConfig: 'local'};</script><script type=\"text/javascript\">if (window.MathJax) {MathJax.Hub.Config({SVG: {font: \"STIX-Web\"}});}</script><script>requirejs.config({paths: { 'plotly': ['https://cdn.plot.ly/plotly-latest.min']},});if(!window._Plotly) {require(['plotly'],function(plotly) {window._Plotly=plotly;});}</script>"
      ],
      "text/vnd.plotly.v1+html": [
       "<script type=\"text/javascript\">window.PlotlyConfig = {MathJaxConfig: 'local'};</script><script type=\"text/javascript\">if (window.MathJax) {MathJax.Hub.Config({SVG: {font: \"STIX-Web\"}});}</script><script>requirejs.config({paths: { 'plotly': ['https://cdn.plot.ly/plotly-latest.min']},});if(!window._Plotly) {require(['plotly'],function(plotly) {window._Plotly=plotly;});}</script>"
      ]
     },
     "metadata": {},
     "output_type": "display_data"
    }
   ],
   "source": [
    "import pandas as pd\n",
    "import numpy as np\n",
    "import plotly as py\n",
    "import plotly.graph_objs as go\n",
    "py.offline.init_notebook_mode(connected=True)"
   ]
  },
  {
   "cell_type": "code",
   "execution_count": 2,
   "metadata": {},
   "outputs": [],
   "source": [
    "#read in datasets\n",
    "economy_df = pd.read_excel('Data/country_classifications.xls',sheet_name=0,header=4)\n",
    "ed_df=pd.read_csv('Data/EDULIT_DS.csv')\n",
    "gapall=pd.read_csv('Data/GenderGapIndex.csv')\n",
    "gdp_all=pd.read_csv('Data/GDP_Per_Capita.csv',header=4,usecols=[0,1,2,3,56,57,58,59,60])"
   ]
  },
  {
   "cell_type": "code",
   "execution_count": 3,
   "metadata": {},
   "outputs": [],
   "source": [
    "#Choose only certain columns and rename from Country Classification dataset\n",
    "economy_df=economy_df[['Code','Region','Income group']]"
   ]
  },
  {
   "cell_type": "code",
   "execution_count": 4,
   "metadata": {},
   "outputs": [],
   "source": [
    "#Merge country classifications into GDP data\n",
    "gdp_all.columns=['Country Name','Code','GDP Indicator Name','GDP Indicator Code','2012_GDPPerCapita','2013_GDPPerCapita','2014_GDPPerCapita','2015_GDPPerCapita','2016_GDPPerCapita']\n",
    "gdp_all=gdp_all.merge(economy_df,on='Code',how='inner')\n"
   ]
  },
  {
   "cell_type": "code",
   "execution_count": 5,
   "metadata": {},
   "outputs": [],
   "source": [
    "stem_df=ed_df.loc[ed_df['Indicator']=='Percentage of graduates from Science, Technology , Engineering and Mathematics programmes in tertiary education who are female (%)']\n",
    "stem_df=stem_df[['LOCATION','Time','Value']]\n",
    "stem_df.rename(columns={'LOCATION':'Code','Time':'STEM Year','Value':'STEM_fem_perc'},inplace=True)\n",
    "stem_df=stem_df.pivot(index='Code',columns='STEM Year',values='STEM_fem_perc')\n"
   ]
  },
  {
   "cell_type": "code",
   "execution_count": 6,
   "metadata": {},
   "outputs": [],
   "source": [
    "stem_df.columns=['2012_stem','2013_stem','2014_stem','2015_stem','2016_stem','2017_stem']\n",
    "stem_df.drop(columns=['2017_stem'],inplace=True)\n",
    "stem_df.reset_index(inplace=True)\n"
   ]
  },
  {
   "cell_type": "code",
   "execution_count": 7,
   "metadata": {
    "scrolled": true
   },
   "outputs": [],
   "source": [
    "overall_gendergap=gapall.loc[gapall['Indicator']=='Overall Global Gender Gap Index',:]\n",
    "overall_gendergap=overall_gendergap.loc[overall_gendergap['Subindicator Type']=='Index',:]\n",
    "overall_gendergap.rename(columns = {'Country ISO3':'Code','2006':'2006_gendergap','2007':'2007_gendergap',\n",
    "                                   '2008':'2008_gendergap','2009':'2009_gendergap',\n",
    "                                   '2010':'2010_gendergap','2011':'2011_gendergap','2012':'2012_gendergap',\n",
    "                                   '2013':'2013_gendergap','2014':'2014_gendergap','2015':'2015_gendergap',\n",
    "                                   '2016':'2016_gendergap'},inplace=True)\n"
   ]
  },
  {
   "cell_type": "code",
   "execution_count": 8,
   "metadata": {},
   "outputs": [],
   "source": [
    "gender_stem=overall_gendergap.merge(stem_df,on='Code',how='inner')\n"
   ]
  },
  {
   "cell_type": "code",
   "execution_count": 9,
   "metadata": {},
   "outputs": [],
   "source": [
    "gender_stem=gender_stem.merge(gdp_all,on='Code',how='inner')\n"
   ]
  },
  {
   "cell_type": "code",
   "execution_count": 10,
   "metadata": {},
   "outputs": [],
   "source": [
    "df_2016=gender_stem[['Country Name_x','2016_gendergap','2016_stem','Region']]\n"
   ]
  },
  {
   "cell_type": "code",
   "execution_count": 11,
   "metadata": {},
   "outputs": [],
   "source": [
    "df_2016=df_2016.dropna()\n"
   ]
  },
  {
   "cell_type": "code",
   "execution_count": 12,
   "metadata": {},
   "outputs": [
    {
     "data": {
      "application/vnd.plotly.v1+json": {
       "config": {
        "linkText": "Export to plot.ly",
        "plotlyServerURL": "https://plot.ly",
        "showLink": true
       },
       "data": [
        {
         "marker": {
          "line": {
           "width": 2
          },
          "opacity": 0.5,
          "size": 40
         },
         "mode": "markers",
         "name": "Europe & Central Asia",
         "text": [
          "Albania",
          "Armenia",
          "Austria",
          "Azerbaijan",
          "Belgium",
          "Bulgaria",
          "Bosnia and Herzegovina",
          "Belarus",
          "Switzerland",
          "Cyprus",
          "Czech Republic",
          "Denmark",
          "Spain",
          "Estonia",
          "Finland",
          "France",
          "United Kingdom",
          "Georgia",
          "Greece",
          "Croatia",
          "Hungary",
          "Ireland",
          "Italy",
          "Kazakhstan",
          "Kyrgyz Republic",
          "Lithuania",
          "Luxembourg",
          "Latvia",
          "Norway",
          "Poland",
          "Portugal",
          "Serbia",
          "Slovenia",
          "Sweden",
          "Ukraine"
         ],
         "type": "scatter",
         "uid": "54982b0d-1c56-4f64-8000-5a1b57831992",
         "x": [
          0.7040000000000001,
          0.669,
          0.716,
          0.684,
          0.745,
          0.726,
          0.685,
          0.737,
          0.7759999999999999,
          0.684,
          0.69,
          0.754,
          0.738,
          0.747,
          0.845,
          0.755,
          0.752,
          0.6809999999999999,
          0.68,
          0.7,
          0.669,
          0.797,
          0.7190000000000001,
          0.718,
          0.687,
          0.7440000000000001,
          0.7340000000000001,
          0.755,
          0.8420000000000001,
          0.727,
          0.737,
          0.72,
          0.7859999999999999,
          0.815,
          0.7
         ],
         "y": [
          48.72306,
          36.8438,
          25.9026,
          34.83515,
          27.48167,
          38.260059999999996,
          43.86636,
          26.97185,
          22.05135,
          42.2272,
          35.37918,
          33.65038,
          29.68383,
          38.32505,
          27.058040000000002,
          31.805640000000004,
          38.10313,
          44.43092,
          39.821259999999995,
          37.92262,
          31.53762,
          29.00194,
          39.522529999999996,
          35.05535,
          29.1343,
          29.82034,
          27.57475,
          31.87288,
          28.437720000000002,
          44.09176,
          39.10522,
          41.099779999999996,
          29.797390000000004,
          35.1661,
          29.49137
         ]
        },
        {
         "marker": {
          "line": {
           "width": 2
          },
          "opacity": 0.5,
          "size": 40
         },
         "mode": "markers",
         "name": "North America",
         "text": [
          "Canada",
          "United States"
         ],
         "type": "scatter",
         "uid": "eb32a582-9253-4936-a4c3-33390dc60647",
         "x": [
          0.731,
          0.722
         ],
         "y": [
          31.4295,
          33.985440000000004
         ]
        },
        {
         "marker": {
          "line": {
           "width": 2
          },
          "opacity": 0.5,
          "size": 40
         },
         "mode": "markers",
         "name": "Latin America & Caribbean",
         "text": [
          "Argentina",
          "Brazil",
          "Chile",
          "Colombia",
          "Costa Rica",
          "Cuba",
          "Dominican Republic",
          "Ecuador",
          "Mexico",
          "Peru",
          "El Salvador"
         ],
         "type": "scatter",
         "uid": "97ecccc0-11a0-42ed-9136-247393eb564d",
         "x": [
          0.735,
          0.687,
          0.6990000000000001,
          0.727,
          0.736,
          0.74,
          0.6759999999999999,
          0.726,
          0.7,
          0.687,
          0.7020000000000001
         ],
         "y": [
          46.50121,
          35.20026,
          18.473689999999998,
          33.87765,
          33.42558,
          39.88868,
          31.912640000000003,
          29.22662,
          31.13375,
          32.89248,
          23.90077
         ]
        },
        {
         "marker": {
          "line": {
           "width": 2
          },
          "opacity": 0.5,
          "size": 40
         },
         "mode": "markers",
         "name": "Sub-Saharan Africa",
         "text": [
          "Burundi",
          "Cabo Verde",
          "Ghana",
          "Kenya",
          "Madagascar",
          "Mozambique",
          "Mauritania",
          "Namibia",
          "South Africa"
         ],
         "type": "scatter",
         "uid": "4e623985-d54f-4ea0-8e11-8da59dae3c02",
         "x": [
          0.768,
          0.7290000000000001,
          0.705,
          0.7020000000000001,
          0.7040000000000001,
          0.75,
          0.624,
          0.765,
          0.764
         ],
         "y": [
          19.24742,
          38.60759,
          20.506829999999997,
          30.72713,
          28.10765,
          23.11952,
          27.035829999999997,
          41.932970000000005,
          41.86201
         ]
        },
        {
         "marker": {
          "line": {
           "width": 2
          },
          "opacity": 0.5,
          "size": 40
         },
         "mode": "markers",
         "name": "East Asia & Pacific",
         "text": [
          "Brunei Darussalam",
          "Korea, Rep.",
          "Lao PDR",
          "New Zealand",
          "Singapore",
          "Thailand",
          "Vietnam"
         ],
         "type": "scatter",
         "uid": "a4eb584e-a248-4e5f-890f-0f4c6104f34c",
         "x": [
          0.669,
          0.649,
          0.7240000000000001,
          0.7809999999999999,
          0.7120000000000001,
          0.6990000000000001,
          0.7
         ],
         "y": [
          51.85512,
          26.361209999999996,
          22.42691,
          35.0966,
          33.71565,
          30.13622,
          36.50885
         ]
        },
        {
         "marker": {
          "line": {
           "width": 2
          },
          "opacity": 0.5,
          "size": 40
         },
         "mode": "markers",
         "name": "Middle East & North Africa",
         "text": [
          "United Arab Emirates",
          "Bahrain",
          "Algeria",
          "Egypt, Arab Rep.",
          "Iran, Islamic Rep.",
          "Morocco",
          "Malta",
          "Oman",
          "Qatar",
          "Saudi Arabia",
          "Syrian Arab Republic",
          "Tunisia"
         ],
         "type": "scatter",
         "uid": "2ec146bd-51eb-413d-8266-4fe59e328daa",
         "x": [
          0.639,
          0.615,
          0.642,
          0.614,
          0.5870000000000001,
          0.597,
          0.664,
          0.612,
          0.643,
          0.583,
          0.5670000000000001,
          0.636
         ],
         "y": [
          43.46405,
          45.74275,
          55.471990000000005,
          36.89891,
          30.09256,
          45.24561,
          28.14446,
          52.83746,
          32.91771,
          39.02755,
          49.50636,
          54.43975
         ]
        },
        {
         "marker": {
          "line": {
           "width": 2
          },
          "opacity": 0.5,
          "size": 40
         },
         "mode": "markers",
         "name": "South Asia",
         "text": [
          "Bangladesh",
          "India",
          "Sri Lanka"
         ],
         "type": "scatter",
         "uid": "5e877acd-4a36-4b98-b4ac-cf2852d5460a",
         "x": [
          0.698,
          0.6829999999999999,
          0.6729999999999999
         ],
         "y": [
          19.775679999999998,
          42.71698,
          42.55887
         ]
        }
       ],
       "layout": {
        "paper_bgcolor": "rgb(243, 243, 243)",
        "plot_bgcolor": "rgb(243, 243, 243)",
        "title": "Percent of Female STEM Graduates from Tertiary Education vs Gender Gap Index",
        "xaxis": {
         "gridcolor": "rgb(255, 255, 255)",
         "gridwidth": 2,
         "range": [
          0.5,
          0.9
         ],
         "ticklen": 5,
         "title": "Gender Gap Index",
         "zerolinewidth": 1
        },
        "yaxis": {
         "gridcolor": "rgb(255, 255, 255)",
         "gridwidth": 2,
         "range": [
          10,
          70
         ],
         "ticklen": 5,
         "title": "Female Stem Graduates from Tertiary Education (%)",
         "zerolinewidth": 1
        }
       }
      },
      "text/html": [
       "<div id=\"746999e9-8d23-4e51-a3ce-42737e30061c\" style=\"height: 525px; width: 100%;\" class=\"plotly-graph-div\"></div><script type=\"text/javascript\">require([\"plotly\"], function(Plotly) { window.PLOTLYENV=window.PLOTLYENV || {};window.PLOTLYENV.BASE_URL=\"https://plot.ly\";Plotly.newPlot(\"746999e9-8d23-4e51-a3ce-42737e30061c\", [{\"marker\": {\"line\": {\"width\": 2}, \"opacity\": 0.5, \"size\": 40}, \"mode\": \"markers\", \"name\": \"Europe & Central Asia\", \"text\": [\"Albania\", \"Armenia\", \"Austria\", \"Azerbaijan\", \"Belgium\", \"Bulgaria\", \"Bosnia and Herzegovina\", \"Belarus\", \"Switzerland\", \"Cyprus\", \"Czech Republic\", \"Denmark\", \"Spain\", \"Estonia\", \"Finland\", \"France\", \"United Kingdom\", \"Georgia\", \"Greece\", \"Croatia\", \"Hungary\", \"Ireland\", \"Italy\", \"Kazakhstan\", \"Kyrgyz Republic\", \"Lithuania\", \"Luxembourg\", \"Latvia\", \"Norway\", \"Poland\", \"Portugal\", \"Serbia\", \"Slovenia\", \"Sweden\", \"Ukraine\"], \"x\": [0.7040000000000001, 0.669, 0.716, 0.684, 0.745, 0.726, 0.685, 0.737, 0.7759999999999999, 0.684, 0.69, 0.754, 0.738, 0.747, 0.845, 0.755, 0.752, 0.6809999999999999, 0.68, 0.7, 0.669, 0.797, 0.7190000000000001, 0.718, 0.687, 0.7440000000000001, 0.7340000000000001, 0.755, 0.8420000000000001, 0.727, 0.737, 0.72, 0.7859999999999999, 0.815, 0.7], \"y\": [48.72306, 36.8438, 25.9026, 34.83515, 27.48167, 38.260059999999996, 43.86636, 26.97185, 22.05135, 42.2272, 35.37918, 33.65038, 29.68383, 38.32505, 27.058040000000002, 31.805640000000004, 38.10313, 44.43092, 39.821259999999995, 37.92262, 31.53762, 29.00194, 39.522529999999996, 35.05535, 29.1343, 29.82034, 27.57475, 31.87288, 28.437720000000002, 44.09176, 39.10522, 41.099779999999996, 29.797390000000004, 35.1661, 29.49137], \"type\": \"scatter\", \"uid\": \"54982b0d-1c56-4f64-8000-5a1b57831992\"}, {\"marker\": {\"line\": {\"width\": 2}, \"opacity\": 0.5, \"size\": 40}, \"mode\": \"markers\", \"name\": \"North America\", \"text\": [\"Canada\", \"United States\"], \"x\": [0.731, 0.722], \"y\": [31.4295, 33.985440000000004], \"type\": \"scatter\", \"uid\": \"eb32a582-9253-4936-a4c3-33390dc60647\"}, {\"marker\": {\"line\": {\"width\": 2}, \"opacity\": 0.5, \"size\": 40}, \"mode\": \"markers\", \"name\": \"Latin America & Caribbean\", \"text\": [\"Argentina\", \"Brazil\", \"Chile\", \"Colombia\", \"Costa Rica\", \"Cuba\", \"Dominican Republic\", \"Ecuador\", \"Mexico\", \"Peru\", \"El Salvador\"], \"x\": [0.735, 0.687, 0.6990000000000001, 0.727, 0.736, 0.74, 0.6759999999999999, 0.726, 0.7, 0.687, 0.7020000000000001], \"y\": [46.50121, 35.20026, 18.473689999999998, 33.87765, 33.42558, 39.88868, 31.912640000000003, 29.22662, 31.13375, 32.89248, 23.90077], \"type\": \"scatter\", \"uid\": \"97ecccc0-11a0-42ed-9136-247393eb564d\"}, {\"marker\": {\"line\": {\"width\": 2}, \"opacity\": 0.5, \"size\": 40}, \"mode\": \"markers\", \"name\": \"Sub-Saharan Africa\", \"text\": [\"Burundi\", \"Cabo Verde\", \"Ghana\", \"Kenya\", \"Madagascar\", \"Mozambique\", \"Mauritania\", \"Namibia\", \"South Africa\"], \"x\": [0.768, 0.7290000000000001, 0.705, 0.7020000000000001, 0.7040000000000001, 0.75, 0.624, 0.765, 0.764], \"y\": [19.24742, 38.60759, 20.506829999999997, 30.72713, 28.10765, 23.11952, 27.035829999999997, 41.932970000000005, 41.86201], \"type\": \"scatter\", \"uid\": \"4e623985-d54f-4ea0-8e11-8da59dae3c02\"}, {\"marker\": {\"line\": {\"width\": 2}, \"opacity\": 0.5, \"size\": 40}, \"mode\": \"markers\", \"name\": \"East Asia & Pacific\", \"text\": [\"Brunei Darussalam\", \"Korea, Rep.\", \"Lao PDR\", \"New Zealand\", \"Singapore\", \"Thailand\", \"Vietnam\"], \"x\": [0.669, 0.649, 0.7240000000000001, 0.7809999999999999, 0.7120000000000001, 0.6990000000000001, 0.7], \"y\": [51.85512, 26.361209999999996, 22.42691, 35.0966, 33.71565, 30.13622, 36.50885], \"type\": \"scatter\", \"uid\": \"a4eb584e-a248-4e5f-890f-0f4c6104f34c\"}, {\"marker\": {\"line\": {\"width\": 2}, \"opacity\": 0.5, \"size\": 40}, \"mode\": \"markers\", \"name\": \"Middle East & North Africa\", \"text\": [\"United Arab Emirates\", \"Bahrain\", \"Algeria\", \"Egypt, Arab Rep.\", \"Iran, Islamic Rep.\", \"Morocco\", \"Malta\", \"Oman\", \"Qatar\", \"Saudi Arabia\", \"Syrian Arab Republic\", \"Tunisia\"], \"x\": [0.639, 0.615, 0.642, 0.614, 0.5870000000000001, 0.597, 0.664, 0.612, 0.643, 0.583, 0.5670000000000001, 0.636], \"y\": [43.46405, 45.74275, 55.471990000000005, 36.89891, 30.09256, 45.24561, 28.14446, 52.83746, 32.91771, 39.02755, 49.50636, 54.43975], \"type\": \"scatter\", \"uid\": \"2ec146bd-51eb-413d-8266-4fe59e328daa\"}, {\"marker\": {\"line\": {\"width\": 2}, \"opacity\": 0.5, \"size\": 40}, \"mode\": \"markers\", \"name\": \"South Asia\", \"text\": [\"Bangladesh\", \"India\", \"Sri Lanka\"], \"x\": [0.698, 0.6829999999999999, 0.6729999999999999], \"y\": [19.775679999999998, 42.71698, 42.55887], \"type\": \"scatter\", \"uid\": \"5e877acd-4a36-4b98-b4ac-cf2852d5460a\"}], {\"paper_bgcolor\": \"rgb(243, 243, 243)\", \"plot_bgcolor\": \"rgb(243, 243, 243)\", \"title\": \"Percent of Female STEM Graduates from Tertiary Education vs Gender Gap Index\", \"xaxis\": {\"gridcolor\": \"rgb(255, 255, 255)\", \"gridwidth\": 2, \"range\": [0.5, 0.9], \"ticklen\": 5, \"title\": \"Gender Gap Index\", \"zerolinewidth\": 1}, \"yaxis\": {\"gridcolor\": \"rgb(255, 255, 255)\", \"gridwidth\": 2, \"range\": [10, 70], \"ticklen\": 5, \"title\": \"Female Stem Graduates from Tertiary Education (%)\", \"zerolinewidth\": 1}}, {\"showLink\": true, \"linkText\": \"Export to plot.ly\", \"plotlyServerURL\": \"https://plot.ly\"})});</script><script type=\"text/javascript\">window.addEventListener(\"resize\", function(){window._Plotly.Plots.resize(document.getElementById(\"746999e9-8d23-4e51-a3ce-42737e30061c\"));});</script>"
      ],
      "text/vnd.plotly.v1+html": [
       "<div id=\"746999e9-8d23-4e51-a3ce-42737e30061c\" style=\"height: 525px; width: 100%;\" class=\"plotly-graph-div\"></div><script type=\"text/javascript\">require([\"plotly\"], function(Plotly) { window.PLOTLYENV=window.PLOTLYENV || {};window.PLOTLYENV.BASE_URL=\"https://plot.ly\";Plotly.newPlot(\"746999e9-8d23-4e51-a3ce-42737e30061c\", [{\"marker\": {\"line\": {\"width\": 2}, \"opacity\": 0.5, \"size\": 40}, \"mode\": \"markers\", \"name\": \"Europe & Central Asia\", \"text\": [\"Albania\", \"Armenia\", \"Austria\", \"Azerbaijan\", \"Belgium\", \"Bulgaria\", \"Bosnia and Herzegovina\", \"Belarus\", \"Switzerland\", \"Cyprus\", \"Czech Republic\", \"Denmark\", \"Spain\", \"Estonia\", \"Finland\", \"France\", \"United Kingdom\", \"Georgia\", \"Greece\", \"Croatia\", \"Hungary\", \"Ireland\", \"Italy\", \"Kazakhstan\", \"Kyrgyz Republic\", \"Lithuania\", \"Luxembourg\", \"Latvia\", \"Norway\", \"Poland\", \"Portugal\", \"Serbia\", \"Slovenia\", \"Sweden\", \"Ukraine\"], \"x\": [0.7040000000000001, 0.669, 0.716, 0.684, 0.745, 0.726, 0.685, 0.737, 0.7759999999999999, 0.684, 0.69, 0.754, 0.738, 0.747, 0.845, 0.755, 0.752, 0.6809999999999999, 0.68, 0.7, 0.669, 0.797, 0.7190000000000001, 0.718, 0.687, 0.7440000000000001, 0.7340000000000001, 0.755, 0.8420000000000001, 0.727, 0.737, 0.72, 0.7859999999999999, 0.815, 0.7], \"y\": [48.72306, 36.8438, 25.9026, 34.83515, 27.48167, 38.260059999999996, 43.86636, 26.97185, 22.05135, 42.2272, 35.37918, 33.65038, 29.68383, 38.32505, 27.058040000000002, 31.805640000000004, 38.10313, 44.43092, 39.821259999999995, 37.92262, 31.53762, 29.00194, 39.522529999999996, 35.05535, 29.1343, 29.82034, 27.57475, 31.87288, 28.437720000000002, 44.09176, 39.10522, 41.099779999999996, 29.797390000000004, 35.1661, 29.49137], \"type\": \"scatter\", \"uid\": \"54982b0d-1c56-4f64-8000-5a1b57831992\"}, {\"marker\": {\"line\": {\"width\": 2}, \"opacity\": 0.5, \"size\": 40}, \"mode\": \"markers\", \"name\": \"North America\", \"text\": [\"Canada\", \"United States\"], \"x\": [0.731, 0.722], \"y\": [31.4295, 33.985440000000004], \"type\": \"scatter\", \"uid\": \"eb32a582-9253-4936-a4c3-33390dc60647\"}, {\"marker\": {\"line\": {\"width\": 2}, \"opacity\": 0.5, \"size\": 40}, \"mode\": \"markers\", \"name\": \"Latin America & Caribbean\", \"text\": [\"Argentina\", \"Brazil\", \"Chile\", \"Colombia\", \"Costa Rica\", \"Cuba\", \"Dominican Republic\", \"Ecuador\", \"Mexico\", \"Peru\", \"El Salvador\"], \"x\": [0.735, 0.687, 0.6990000000000001, 0.727, 0.736, 0.74, 0.6759999999999999, 0.726, 0.7, 0.687, 0.7020000000000001], \"y\": [46.50121, 35.20026, 18.473689999999998, 33.87765, 33.42558, 39.88868, 31.912640000000003, 29.22662, 31.13375, 32.89248, 23.90077], \"type\": \"scatter\", \"uid\": \"97ecccc0-11a0-42ed-9136-247393eb564d\"}, {\"marker\": {\"line\": {\"width\": 2}, \"opacity\": 0.5, \"size\": 40}, \"mode\": \"markers\", \"name\": \"Sub-Saharan Africa\", \"text\": [\"Burundi\", \"Cabo Verde\", \"Ghana\", \"Kenya\", \"Madagascar\", \"Mozambique\", \"Mauritania\", \"Namibia\", \"South Africa\"], \"x\": [0.768, 0.7290000000000001, 0.705, 0.7020000000000001, 0.7040000000000001, 0.75, 0.624, 0.765, 0.764], \"y\": [19.24742, 38.60759, 20.506829999999997, 30.72713, 28.10765, 23.11952, 27.035829999999997, 41.932970000000005, 41.86201], \"type\": \"scatter\", \"uid\": \"4e623985-d54f-4ea0-8e11-8da59dae3c02\"}, {\"marker\": {\"line\": {\"width\": 2}, \"opacity\": 0.5, \"size\": 40}, \"mode\": \"markers\", \"name\": \"East Asia & Pacific\", \"text\": [\"Brunei Darussalam\", \"Korea, Rep.\", \"Lao PDR\", \"New Zealand\", \"Singapore\", \"Thailand\", \"Vietnam\"], \"x\": [0.669, 0.649, 0.7240000000000001, 0.7809999999999999, 0.7120000000000001, 0.6990000000000001, 0.7], \"y\": [51.85512, 26.361209999999996, 22.42691, 35.0966, 33.71565, 30.13622, 36.50885], \"type\": \"scatter\", \"uid\": \"a4eb584e-a248-4e5f-890f-0f4c6104f34c\"}, {\"marker\": {\"line\": {\"width\": 2}, \"opacity\": 0.5, \"size\": 40}, \"mode\": \"markers\", \"name\": \"Middle East & North Africa\", \"text\": [\"United Arab Emirates\", \"Bahrain\", \"Algeria\", \"Egypt, Arab Rep.\", \"Iran, Islamic Rep.\", \"Morocco\", \"Malta\", \"Oman\", \"Qatar\", \"Saudi Arabia\", \"Syrian Arab Republic\", \"Tunisia\"], \"x\": [0.639, 0.615, 0.642, 0.614, 0.5870000000000001, 0.597, 0.664, 0.612, 0.643, 0.583, 0.5670000000000001, 0.636], \"y\": [43.46405, 45.74275, 55.471990000000005, 36.89891, 30.09256, 45.24561, 28.14446, 52.83746, 32.91771, 39.02755, 49.50636, 54.43975], \"type\": \"scatter\", \"uid\": \"2ec146bd-51eb-413d-8266-4fe59e328daa\"}, {\"marker\": {\"line\": {\"width\": 2}, \"opacity\": 0.5, \"size\": 40}, \"mode\": \"markers\", \"name\": \"South Asia\", \"text\": [\"Bangladesh\", \"India\", \"Sri Lanka\"], \"x\": [0.698, 0.6829999999999999, 0.6729999999999999], \"y\": [19.775679999999998, 42.71698, 42.55887], \"type\": \"scatter\", \"uid\": \"5e877acd-4a36-4b98-b4ac-cf2852d5460a\"}], {\"paper_bgcolor\": \"rgb(243, 243, 243)\", \"plot_bgcolor\": \"rgb(243, 243, 243)\", \"title\": \"Percent of Female STEM Graduates from Tertiary Education vs Gender Gap Index\", \"xaxis\": {\"gridcolor\": \"rgb(255, 255, 255)\", \"gridwidth\": 2, \"range\": [0.5, 0.9], \"ticklen\": 5, \"title\": \"Gender Gap Index\", \"zerolinewidth\": 1}, \"yaxis\": {\"gridcolor\": \"rgb(255, 255, 255)\", \"gridwidth\": 2, \"range\": [10, 70], \"ticklen\": 5, \"title\": \"Female Stem Graduates from Tertiary Education (%)\", \"zerolinewidth\": 1}}, {\"showLink\": true, \"linkText\": \"Export to plot.ly\", \"plotlyServerURL\": \"https://plot.ly\"})});</script><script type=\"text/javascript\">window.addEventListener(\"resize\", function(){window._Plotly.Plots.resize(document.getElementById(\"746999e9-8d23-4e51-a3ce-42737e30061c\"));});</script>"
      ]
     },
     "metadata": {},
     "output_type": "display_data"
    }
   ],
   "source": [
    "trace0 = go.Scatter(\n",
    "    x=df_2016['2016_gendergap'][df_2016['Region'] == 'Europe & Central Asia'],\n",
    "    y=df_2016['2016_stem'][df_2016['Region'] == 'Europe & Central Asia'],\n",
    "    mode='markers',\n",
    "    name='Europe & Central Asia',\n",
    "    text=df_2016['Country Name_x'][df_2016['Region'] == 'Europe & Central Asia'],\n",
    "    marker=dict(\n",
    "        size=40,\n",
    "        opacity=0.5,\n",
    "        line=dict(\n",
    "            width=2\n",
    "        ),\n",
    "        \n",
    "    )\n",
    ")\n",
    "\n",
    "trace1 = go.Scatter(\n",
    "    x=df_2016['2016_gendergap'][df_2016['Region'] == 'North America'],\n",
    "    y=df_2016['2016_stem'][df_2016['Region'] == 'North America'],\n",
    "    mode='markers',\n",
    "    name='North America',\n",
    "    text=df_2016['Country Name_x'][df_2016['Region'] == 'North America'],\n",
    "    marker=dict(\n",
    "        size=40,\n",
    "        opacity=0.5,\n",
    "        line=dict(\n",
    "            width=2\n",
    "        ),\n",
    "        \n",
    "    )\n",
    ")\n",
    "\n",
    "trace2 = go.Scatter(\n",
    "    x=df_2016['2016_gendergap'][df_2016['Region'] == 'Latin America & Caribbean'],\n",
    "    y=df_2016['2016_stem'][df_2016['Region'] == 'Latin America & Caribbean'],\n",
    "    mode='markers',\n",
    "    name='Latin America & Caribbean',\n",
    "    text=df_2016['Country Name_x'][df_2016['Region'] == 'Latin America & Caribbean'],\n",
    "    marker=dict(\n",
    "        size=40,\n",
    "        opacity=0.5,\n",
    "        line=dict(\n",
    "            width=2\n",
    "        ),\n",
    "        \n",
    "    )\n",
    ")\n",
    "\n",
    "trace3 = go.Scatter(\n",
    "    x=df_2016['2016_gendergap'][df_2016['Region'] == 'Sub-Saharan Africa'],\n",
    "    y=df_2016['2016_stem'][df_2016['Region'] == 'Sub-Saharan Africa'],\n",
    "    mode='markers',\n",
    "    name='Sub-Saharan Africa',\n",
    "    text=df_2016['Country Name_x'][df_2016['Region'] == 'Sub-Saharan Africa'],\n",
    "    marker=dict(\n",
    "        size=40,\n",
    "        opacity=0.5,\n",
    "        line=dict(\n",
    "            width=2\n",
    "        ),\n",
    "        \n",
    "    )\n",
    ")\n",
    "\n",
    "trace4 = go.Scatter(\n",
    "    x=df_2016['2016_gendergap'][df_2016['Region'] == 'East Asia & Pacific'],\n",
    "    y=df_2016['2016_stem'][df_2016['Region'] == 'East Asia & Pacific'],\n",
    "    mode='markers',\n",
    "    name='East Asia & Pacific',\n",
    "    text=df_2016['Country Name_x'][df_2016['Region'] == 'East Asia & Pacific'],\n",
    "    marker=dict(\n",
    "        size=40,\n",
    "        opacity=0.5,\n",
    "        line=dict(\n",
    "            width=2\n",
    "        ),\n",
    "        \n",
    "    )\n",
    ")\n",
    "trace5 = go.Scatter(\n",
    "    x=df_2016['2016_gendergap'][df_2016['Region'] == 'Middle East & North Africa'],\n",
    "    y=df_2016['2016_stem'][df_2016['Region'] == 'Middle East & North Africa'],\n",
    "    mode='markers',\n",
    "    name='Middle East & North Africa',\n",
    "    text=df_2016['Country Name_x'][df_2016['Region'] == 'Middle East & North Africa'],\n",
    "    marker=dict(\n",
    "        size=40,\n",
    "        opacity=0.5,\n",
    "        line=dict(\n",
    "            width=2\n",
    "        ),\n",
    "        \n",
    "    )\n",
    ")\n",
    "trace6 = go.Scatter(\n",
    "    x=df_2016['2016_gendergap'][df_2016['Region'] == 'South Asia'],\n",
    "    y=df_2016['2016_stem'][df_2016['Region'] == 'South Asia'],\n",
    "    mode='markers',\n",
    "    name='South Asia',\n",
    "    text=df_2016['Country Name_x'][df_2016['Region'] == 'South Asia'],\n",
    "    marker=dict(\n",
    "        size=40,\n",
    "        opacity=0.5,\n",
    "        line=dict(\n",
    "            width=2\n",
    "        ),\n",
    "        \n",
    "    )\n",
    ")\n",
    "\n",
    "\n",
    "\n",
    "data=[trace0,trace1,trace2,trace3,trace4,trace5,trace6]\n",
    "\n",
    "layout = go.Layout(\n",
    "    title='Percent of Female STEM Graduates from Tertiary Education vs Gender Gap Index',\n",
    "    xaxis=dict(\n",
    "        title='Gender Gap Index',\n",
    "        gridcolor='rgb(255, 255, 255)',\n",
    "        range=[0.5, 0.9],\n",
    "        zerolinewidth=1,\n",
    "        ticklen=5,\n",
    "        gridwidth=2,\n",
    "    ),\n",
    "    yaxis=dict(\n",
    "        title='Female Stem Graduates from Tertiary Education (%)',\n",
    "        gridcolor='rgb(255, 255, 255)',\n",
    "        range=[10,70],\n",
    "        zerolinewidth=1,\n",
    "        ticklen=5,\n",
    "        gridwidth=2,\n",
    "    ),\n",
    "    paper_bgcolor='rgb(243, 243, 243)',\n",
    "    plot_bgcolor='rgb(243, 243, 243)',\n",
    ")\n",
    "fig=go.Figure(data=data,layout=layout)\n",
    "py.offline.iplot(fig)"
   ]
  },
  {
   "cell_type": "code",
   "execution_count": 24,
   "metadata": {},
   "outputs": [
    {
     "data": {
      "text/plain": [
       "100738.6842"
      ]
     },
     "execution_count": 24,
     "metadata": {},
     "output_type": "execute_result"
    }
   ],
   "source": [
    "df_2016_gdp=gender_stem[['Country Name_x','2016_GDPPerCapita','2016_stem','Region']]\n",
    "df_2016_gdp=df_2016_gdp.dropna()\n",
    "df_2016_gdp['2016_GDPPerCapita']=df_2016_gdp['2016_GDPPerCapita']"
   ]
  },
  {
   "cell_type": "code",
   "execution_count": 26,
   "metadata": {},
   "outputs": [
    {
     "data": {
      "application/vnd.plotly.v1+json": {
       "config": {
        "linkText": "Export to plot.ly",
        "plotlyServerURL": "https://plot.ly",
        "showLink": true
       },
       "data": [
        {
         "marker": {
          "line": {
           "width": 2
          },
          "opacity": 0.5,
          "size": 40
         },
         "mode": "markers",
         "name": "Europe & Central Asia",
         "text": [
          "Albania",
          "Armenia",
          "Austria",
          "Azerbaijan",
          "Belgium",
          "Bulgaria",
          "Bosnia and Herzegovina",
          "Belarus",
          "Switzerland",
          "Cyprus",
          "Czech Republic",
          "Denmark",
          "Spain",
          "Estonia",
          "Finland",
          "France",
          "United Kingdom",
          "Georgia",
          "Greece",
          "Croatia",
          "Hungary",
          "Ireland",
          "Italy",
          "Kazakhstan",
          "Kyrgyz Republic",
          "Lithuania",
          "Luxembourg",
          "Latvia",
          "Norway",
          "Poland",
          "Portugal",
          "Serbia",
          "Slovenia",
          "Sweden",
          "Ukraine"
         ],
         "type": "scatter",
         "uid": "92f20022-b367-47fd-86fc-1f0fd1d30fa5",
         "x": [
          4131.872340999999,
          3605.743117,
          44731.01086,
          3880.7387310000004,
          41260.97755,
          7469.447703,
          4808.6360429999995,
          5022.626643,
          79866.03187,
          23541.48825,
          18483.716480000003,
          53578.75657,
          26616.7578,
          17736.8027,
          43433.03222,
          36870.21913,
          40412.03362,
          3865.7856939999997,
          17881.5267,
          12298.57035,
          12820.0882,
          64100.42995,
          30668.98143,
          7714.841844,
          1120.6665130000001,
          14912.68654,
          100738.6842,
          14070.42265,
          70890.03557000001,
          12415.043290000001,
          19871.718969999998,
          5426.198279,
          21650.21276,
          51844.76126,
          2185.7280309999996
         ],
         "y": [
          48.72306,
          36.8438,
          25.9026,
          34.83515,
          27.48167,
          38.260059999999996,
          43.86636,
          26.97185,
          22.05135,
          42.2272,
          35.37918,
          33.65038,
          29.68383,
          38.32505,
          27.058040000000002,
          31.805640000000004,
          38.10313,
          44.43092,
          39.821259999999995,
          37.92262,
          31.53762,
          29.00194,
          39.522529999999996,
          35.05535,
          29.1343,
          29.82034,
          27.57475,
          31.87288,
          28.437720000000002,
          44.09176,
          39.10522,
          41.099779999999996,
          29.797390000000004,
          35.1661,
          29.49137
         ]
        },
        {
         "marker": {
          "line": {
           "width": 2
          },
          "opacity": 0.5,
          "size": 40
         },
         "mode": "markers",
         "name": "North America",
         "text": [
          "Canada",
          "United States"
         ],
         "type": "scatter",
         "uid": "fedde85e-23ab-4e12-83bc-966fd4de316d",
         "x": [
          42348.94546,
          57588.53807
         ],
         "y": [
          31.4295,
          33.985440000000004
         ]
        },
        {
         "marker": {
          "line": {
           "width": 2
          },
          "opacity": 0.5,
          "size": 40
         },
         "mode": "markers",
         "name": "Latin America & Caribbean",
         "text": [
          "Argentina",
          "Brazil",
          "Chile",
          "Colombia",
          "Costa Rica",
          "Dominican Republic",
          "Ecuador",
          "Mexico",
          "Peru",
          "El Salvador"
         ],
         "type": "scatter",
         "uid": "beff39f5-a7bf-4e24-8bd2-c8a88e9f6930",
         "x": [
          12654.355,
          8639.365743,
          13960.894209999999,
          5756.861602,
          11732.71055,
          6793.538125,
          6018.526868,
          8443.691923999999,
          6031.366091,
          3768.837705
         ],
         "y": [
          46.50121,
          35.20026,
          18.473689999999998,
          33.87765,
          33.42558,
          31.912640000000003,
          29.22662,
          31.13375,
          32.89248,
          23.90077
         ]
        },
        {
         "marker": {
          "line": {
           "width": 2
          },
          "opacity": 0.5,
          "size": 40
         },
         "mode": "markers",
         "name": "Sub-Saharan Africa",
         "text": [
          "Burundi",
          "Cabo Verde",
          "Ghana",
          "Kenya",
          "Madagascar",
          "Mozambique",
          "Mauritania",
          "Namibia",
          "South Africa"
         ],
         "type": "scatter",
         "uid": "377ebb32-33ac-4853-99a0-f6f2f4c806a8",
         "x": [
          285.7274421,
          3037.525642,
          1517.495508,
          1462.505115,
          401.74226539999995,
          382.069457,
          1101.901529,
          4560.7020600000005,
          5280.0176329999995
         ],
         "y": [
          19.24742,
          38.60759,
          20.506829999999997,
          30.72713,
          28.10765,
          23.11952,
          27.035829999999997,
          41.932970000000005,
          41.86201
         ]
        },
        {
         "marker": {
          "line": {
           "width": 2
          },
          "opacity": 0.5,
          "size": 40
         },
         "mode": "markers",
         "name": "East Asia & Pacific",
         "text": [
          "Brunei Darussalam",
          "Korea, Rep.",
          "Lao PDR",
          "New Zealand",
          "Singapore",
          "Thailand",
          "Vietnam"
         ],
         "type": "scatter",
         "uid": "ec6c4751-6f5f-4440-b52e-5edd3f7c2478",
         "x": [
          26939.41805,
          27608.24743,
          2338.692157,
          40331.9591,
          55243.13288,
          5979.293546,
          2170.648054
         ],
         "y": [
          51.85512,
          26.361209999999996,
          22.42691,
          35.0966,
          33.71565,
          30.13622,
          36.50885
         ]
        },
        {
         "marker": {
          "line": {
           "width": 2
          },
          "opacity": 0.5,
          "size": 40
         },
         "mode": "markers",
         "name": "Middle East & North Africa",
         "text": [
          "United Arab Emirates",
          "Bahrain",
          "Algeria",
          "Egypt, Arab Rep.",
          "Iran, Islamic Rep.",
          "Morocco",
          "Malta",
          "Oman",
          "Qatar",
          "Saudi Arabia",
          "Tunisia"
         ],
         "type": "scatter",
         "uid": "86a1469d-f10c-452e-83e5-3cd331fdced6",
         "x": [
          38517.80039,
          22560.58127,
          3916.881571,
          3479.281246,
          5219.109805,
          2892.775561,
          24770.806569999997,
          15102.382309999999,
          59324.33877,
          19982.08563,
          3688.646375
         ],
         "y": [
          43.46405,
          45.74275,
          55.471990000000005,
          36.89891,
          30.09256,
          45.24561,
          28.14446,
          52.83746,
          32.91771,
          39.02755,
          54.43975
         ]
        },
        {
         "marker": {
          "line": {
           "width": 2
          },
          "opacity": 0.5,
          "size": 40
         },
         "mode": "markers",
         "name": "South Asia",
         "text": [
          "Bangladesh",
          "India",
          "Sri Lanka"
         ],
         "type": "scatter",
         "uid": "510e0c1c-403b-42a4-aef0-75ba128cb977",
         "x": [
          1358.7790289999998,
          1717.473878,
          3857.3963630000003
         ],
         "y": [
          19.775679999999998,
          42.71698,
          42.55887
         ]
        }
       ],
       "layout": {
        "paper_bgcolor": "rgb(243, 243, 243)",
        "plot_bgcolor": "rgb(243, 243, 243)",
        "title": "Percent of Female STEM Graduates from Tertiary Education vs GDP",
        "xaxis": {
         "gridcolor": "rgb(255, 255, 255)",
         "gridwidth": 2,
         "range": [
          2.003297660701705,
          5.3
         ],
         "ticklen": 5,
         "title": "GDP Per Capita (2000 Dollars)",
         "type": "log",
         "zerolinewidth": 1
        },
        "yaxis": {
         "gridcolor": "rgb(255, 255, 255)",
         "gridwidth": 2,
         "range": [
          10,
          70
         ],
         "ticklen": 5,
         "title": "Female Stem Graduates from Tertiary Education (%)",
         "zerolinewidth": 1
        }
       }
      },
      "text/html": [
       "<div id=\"ac74470c-6dcd-4480-a804-52e19243f2bc\" style=\"height: 525px; width: 100%;\" class=\"plotly-graph-div\"></div><script type=\"text/javascript\">require([\"plotly\"], function(Plotly) { window.PLOTLYENV=window.PLOTLYENV || {};window.PLOTLYENV.BASE_URL=\"https://plot.ly\";Plotly.newPlot(\"ac74470c-6dcd-4480-a804-52e19243f2bc\", [{\"marker\": {\"line\": {\"width\": 2}, \"opacity\": 0.5, \"size\": 40}, \"mode\": \"markers\", \"name\": \"Europe & Central Asia\", \"text\": [\"Albania\", \"Armenia\", \"Austria\", \"Azerbaijan\", \"Belgium\", \"Bulgaria\", \"Bosnia and Herzegovina\", \"Belarus\", \"Switzerland\", \"Cyprus\", \"Czech Republic\", \"Denmark\", \"Spain\", \"Estonia\", \"Finland\", \"France\", \"United Kingdom\", \"Georgia\", \"Greece\", \"Croatia\", \"Hungary\", \"Ireland\", \"Italy\", \"Kazakhstan\", \"Kyrgyz Republic\", \"Lithuania\", \"Luxembourg\", \"Latvia\", \"Norway\", \"Poland\", \"Portugal\", \"Serbia\", \"Slovenia\", \"Sweden\", \"Ukraine\"], \"x\": [4131.872340999999, 3605.743117, 44731.01086, 3880.7387310000004, 41260.97755, 7469.447703, 4808.6360429999995, 5022.626643, 79866.03187, 23541.48825, 18483.716480000003, 53578.75657, 26616.7578, 17736.8027, 43433.03222, 36870.21913, 40412.03362, 3865.7856939999997, 17881.5267, 12298.57035, 12820.0882, 64100.42995, 30668.98143, 7714.841844, 1120.6665130000001, 14912.68654, 100738.6842, 14070.42265, 70890.03557000001, 12415.043290000001, 19871.718969999998, 5426.198279, 21650.21276, 51844.76126, 2185.7280309999996], \"y\": [48.72306, 36.8438, 25.9026, 34.83515, 27.48167, 38.260059999999996, 43.86636, 26.97185, 22.05135, 42.2272, 35.37918, 33.65038, 29.68383, 38.32505, 27.058040000000002, 31.805640000000004, 38.10313, 44.43092, 39.821259999999995, 37.92262, 31.53762, 29.00194, 39.522529999999996, 35.05535, 29.1343, 29.82034, 27.57475, 31.87288, 28.437720000000002, 44.09176, 39.10522, 41.099779999999996, 29.797390000000004, 35.1661, 29.49137], \"type\": \"scatter\", \"uid\": \"92f20022-b367-47fd-86fc-1f0fd1d30fa5\"}, {\"marker\": {\"line\": {\"width\": 2}, \"opacity\": 0.5, \"size\": 40}, \"mode\": \"markers\", \"name\": \"North America\", \"text\": [\"Canada\", \"United States\"], \"x\": [42348.94546, 57588.53807], \"y\": [31.4295, 33.985440000000004], \"type\": \"scatter\", \"uid\": \"fedde85e-23ab-4e12-83bc-966fd4de316d\"}, {\"marker\": {\"line\": {\"width\": 2}, \"opacity\": 0.5, \"size\": 40}, \"mode\": \"markers\", \"name\": \"Latin America & Caribbean\", \"text\": [\"Argentina\", \"Brazil\", \"Chile\", \"Colombia\", \"Costa Rica\", \"Dominican Republic\", \"Ecuador\", \"Mexico\", \"Peru\", \"El Salvador\"], \"x\": [12654.355, 8639.365743, 13960.894209999999, 5756.861602, 11732.71055, 6793.538125, 6018.526868, 8443.691923999999, 6031.366091, 3768.837705], \"y\": [46.50121, 35.20026, 18.473689999999998, 33.87765, 33.42558, 31.912640000000003, 29.22662, 31.13375, 32.89248, 23.90077], \"type\": \"scatter\", \"uid\": \"beff39f5-a7bf-4e24-8bd2-c8a88e9f6930\"}, {\"marker\": {\"line\": {\"width\": 2}, \"opacity\": 0.5, \"size\": 40}, \"mode\": \"markers\", \"name\": \"Sub-Saharan Africa\", \"text\": [\"Burundi\", \"Cabo Verde\", \"Ghana\", \"Kenya\", \"Madagascar\", \"Mozambique\", \"Mauritania\", \"Namibia\", \"South Africa\"], \"x\": [285.7274421, 3037.525642, 1517.495508, 1462.505115, 401.74226539999995, 382.069457, 1101.901529, 4560.7020600000005, 5280.0176329999995], \"y\": [19.24742, 38.60759, 20.506829999999997, 30.72713, 28.10765, 23.11952, 27.035829999999997, 41.932970000000005, 41.86201], \"type\": \"scatter\", \"uid\": \"377ebb32-33ac-4853-99a0-f6f2f4c806a8\"}, {\"marker\": {\"line\": {\"width\": 2}, \"opacity\": 0.5, \"size\": 40}, \"mode\": \"markers\", \"name\": \"East Asia & Pacific\", \"text\": [\"Brunei Darussalam\", \"Korea, Rep.\", \"Lao PDR\", \"New Zealand\", \"Singapore\", \"Thailand\", \"Vietnam\"], \"x\": [26939.41805, 27608.24743, 2338.692157, 40331.9591, 55243.13288, 5979.293546, 2170.648054], \"y\": [51.85512, 26.361209999999996, 22.42691, 35.0966, 33.71565, 30.13622, 36.50885], \"type\": \"scatter\", \"uid\": \"ec6c4751-6f5f-4440-b52e-5edd3f7c2478\"}, {\"marker\": {\"line\": {\"width\": 2}, \"opacity\": 0.5, \"size\": 40}, \"mode\": \"markers\", \"name\": \"Middle East & North Africa\", \"text\": [\"United Arab Emirates\", \"Bahrain\", \"Algeria\", \"Egypt, Arab Rep.\", \"Iran, Islamic Rep.\", \"Morocco\", \"Malta\", \"Oman\", \"Qatar\", \"Saudi Arabia\", \"Tunisia\"], \"x\": [38517.80039, 22560.58127, 3916.881571, 3479.281246, 5219.109805, 2892.775561, 24770.806569999997, 15102.382309999999, 59324.33877, 19982.08563, 3688.646375], \"y\": [43.46405, 45.74275, 55.471990000000005, 36.89891, 30.09256, 45.24561, 28.14446, 52.83746, 32.91771, 39.02755, 54.43975], \"type\": \"scatter\", \"uid\": \"86a1469d-f10c-452e-83e5-3cd331fdced6\"}, {\"marker\": {\"line\": {\"width\": 2}, \"opacity\": 0.5, \"size\": 40}, \"mode\": \"markers\", \"name\": \"South Asia\", \"text\": [\"Bangladesh\", \"India\", \"Sri Lanka\"], \"x\": [1358.7790289999998, 1717.473878, 3857.3963630000003], \"y\": [19.775679999999998, 42.71698, 42.55887], \"type\": \"scatter\", \"uid\": \"510e0c1c-403b-42a4-aef0-75ba128cb977\"}], {\"paper_bgcolor\": \"rgb(243, 243, 243)\", \"plot_bgcolor\": \"rgb(243, 243, 243)\", \"title\": \"Percent of Female STEM Graduates from Tertiary Education vs GDP\", \"xaxis\": {\"gridcolor\": \"rgb(255, 255, 255)\", \"gridwidth\": 2, \"range\": [2.003297660701705, 5.3], \"ticklen\": 5, \"title\": \"GDP Per Capita (2000 Dollars)\", \"type\": \"log\", \"zerolinewidth\": 1}, \"yaxis\": {\"gridcolor\": \"rgb(255, 255, 255)\", \"gridwidth\": 2, \"range\": [10, 70], \"ticklen\": 5, \"title\": \"Female Stem Graduates from Tertiary Education (%)\", \"zerolinewidth\": 1}}, {\"showLink\": true, \"linkText\": \"Export to plot.ly\", \"plotlyServerURL\": \"https://plot.ly\"})});</script><script type=\"text/javascript\">window.addEventListener(\"resize\", function(){window._Plotly.Plots.resize(document.getElementById(\"ac74470c-6dcd-4480-a804-52e19243f2bc\"));});</script>"
      ],
      "text/vnd.plotly.v1+html": [
       "<div id=\"ac74470c-6dcd-4480-a804-52e19243f2bc\" style=\"height: 525px; width: 100%;\" class=\"plotly-graph-div\"></div><script type=\"text/javascript\">require([\"plotly\"], function(Plotly) { window.PLOTLYENV=window.PLOTLYENV || {};window.PLOTLYENV.BASE_URL=\"https://plot.ly\";Plotly.newPlot(\"ac74470c-6dcd-4480-a804-52e19243f2bc\", [{\"marker\": {\"line\": {\"width\": 2}, \"opacity\": 0.5, \"size\": 40}, \"mode\": \"markers\", \"name\": \"Europe & Central Asia\", \"text\": [\"Albania\", \"Armenia\", \"Austria\", \"Azerbaijan\", \"Belgium\", \"Bulgaria\", \"Bosnia and Herzegovina\", \"Belarus\", \"Switzerland\", \"Cyprus\", \"Czech Republic\", \"Denmark\", \"Spain\", \"Estonia\", \"Finland\", \"France\", \"United Kingdom\", \"Georgia\", \"Greece\", \"Croatia\", \"Hungary\", \"Ireland\", \"Italy\", \"Kazakhstan\", \"Kyrgyz Republic\", \"Lithuania\", \"Luxembourg\", \"Latvia\", \"Norway\", \"Poland\", \"Portugal\", \"Serbia\", \"Slovenia\", \"Sweden\", \"Ukraine\"], \"x\": [4131.872340999999, 3605.743117, 44731.01086, 3880.7387310000004, 41260.97755, 7469.447703, 4808.6360429999995, 5022.626643, 79866.03187, 23541.48825, 18483.716480000003, 53578.75657, 26616.7578, 17736.8027, 43433.03222, 36870.21913, 40412.03362, 3865.7856939999997, 17881.5267, 12298.57035, 12820.0882, 64100.42995, 30668.98143, 7714.841844, 1120.6665130000001, 14912.68654, 100738.6842, 14070.42265, 70890.03557000001, 12415.043290000001, 19871.718969999998, 5426.198279, 21650.21276, 51844.76126, 2185.7280309999996], \"y\": [48.72306, 36.8438, 25.9026, 34.83515, 27.48167, 38.260059999999996, 43.86636, 26.97185, 22.05135, 42.2272, 35.37918, 33.65038, 29.68383, 38.32505, 27.058040000000002, 31.805640000000004, 38.10313, 44.43092, 39.821259999999995, 37.92262, 31.53762, 29.00194, 39.522529999999996, 35.05535, 29.1343, 29.82034, 27.57475, 31.87288, 28.437720000000002, 44.09176, 39.10522, 41.099779999999996, 29.797390000000004, 35.1661, 29.49137], \"type\": \"scatter\", \"uid\": \"92f20022-b367-47fd-86fc-1f0fd1d30fa5\"}, {\"marker\": {\"line\": {\"width\": 2}, \"opacity\": 0.5, \"size\": 40}, \"mode\": \"markers\", \"name\": \"North America\", \"text\": [\"Canada\", \"United States\"], \"x\": [42348.94546, 57588.53807], \"y\": [31.4295, 33.985440000000004], \"type\": \"scatter\", \"uid\": \"fedde85e-23ab-4e12-83bc-966fd4de316d\"}, {\"marker\": {\"line\": {\"width\": 2}, \"opacity\": 0.5, \"size\": 40}, \"mode\": \"markers\", \"name\": \"Latin America & Caribbean\", \"text\": [\"Argentina\", \"Brazil\", \"Chile\", \"Colombia\", \"Costa Rica\", \"Dominican Republic\", \"Ecuador\", \"Mexico\", \"Peru\", \"El Salvador\"], \"x\": [12654.355, 8639.365743, 13960.894209999999, 5756.861602, 11732.71055, 6793.538125, 6018.526868, 8443.691923999999, 6031.366091, 3768.837705], \"y\": [46.50121, 35.20026, 18.473689999999998, 33.87765, 33.42558, 31.912640000000003, 29.22662, 31.13375, 32.89248, 23.90077], \"type\": \"scatter\", \"uid\": \"beff39f5-a7bf-4e24-8bd2-c8a88e9f6930\"}, {\"marker\": {\"line\": {\"width\": 2}, \"opacity\": 0.5, \"size\": 40}, \"mode\": \"markers\", \"name\": \"Sub-Saharan Africa\", \"text\": [\"Burundi\", \"Cabo Verde\", \"Ghana\", \"Kenya\", \"Madagascar\", \"Mozambique\", \"Mauritania\", \"Namibia\", \"South Africa\"], \"x\": [285.7274421, 3037.525642, 1517.495508, 1462.505115, 401.74226539999995, 382.069457, 1101.901529, 4560.7020600000005, 5280.0176329999995], \"y\": [19.24742, 38.60759, 20.506829999999997, 30.72713, 28.10765, 23.11952, 27.035829999999997, 41.932970000000005, 41.86201], \"type\": \"scatter\", \"uid\": \"377ebb32-33ac-4853-99a0-f6f2f4c806a8\"}, {\"marker\": {\"line\": {\"width\": 2}, \"opacity\": 0.5, \"size\": 40}, \"mode\": \"markers\", \"name\": \"East Asia & Pacific\", \"text\": [\"Brunei Darussalam\", \"Korea, Rep.\", \"Lao PDR\", \"New Zealand\", \"Singapore\", \"Thailand\", \"Vietnam\"], \"x\": [26939.41805, 27608.24743, 2338.692157, 40331.9591, 55243.13288, 5979.293546, 2170.648054], \"y\": [51.85512, 26.361209999999996, 22.42691, 35.0966, 33.71565, 30.13622, 36.50885], \"type\": \"scatter\", \"uid\": \"ec6c4751-6f5f-4440-b52e-5edd3f7c2478\"}, {\"marker\": {\"line\": {\"width\": 2}, \"opacity\": 0.5, \"size\": 40}, \"mode\": \"markers\", \"name\": \"Middle East & North Africa\", \"text\": [\"United Arab Emirates\", \"Bahrain\", \"Algeria\", \"Egypt, Arab Rep.\", \"Iran, Islamic Rep.\", \"Morocco\", \"Malta\", \"Oman\", \"Qatar\", \"Saudi Arabia\", \"Tunisia\"], \"x\": [38517.80039, 22560.58127, 3916.881571, 3479.281246, 5219.109805, 2892.775561, 24770.806569999997, 15102.382309999999, 59324.33877, 19982.08563, 3688.646375], \"y\": [43.46405, 45.74275, 55.471990000000005, 36.89891, 30.09256, 45.24561, 28.14446, 52.83746, 32.91771, 39.02755, 54.43975], \"type\": \"scatter\", \"uid\": \"86a1469d-f10c-452e-83e5-3cd331fdced6\"}, {\"marker\": {\"line\": {\"width\": 2}, \"opacity\": 0.5, \"size\": 40}, \"mode\": \"markers\", \"name\": \"South Asia\", \"text\": [\"Bangladesh\", \"India\", \"Sri Lanka\"], \"x\": [1358.7790289999998, 1717.473878, 3857.3963630000003], \"y\": [19.775679999999998, 42.71698, 42.55887], \"type\": \"scatter\", \"uid\": \"510e0c1c-403b-42a4-aef0-75ba128cb977\"}], {\"paper_bgcolor\": \"rgb(243, 243, 243)\", \"plot_bgcolor\": \"rgb(243, 243, 243)\", \"title\": \"Percent of Female STEM Graduates from Tertiary Education vs GDP\", \"xaxis\": {\"gridcolor\": \"rgb(255, 255, 255)\", \"gridwidth\": 2, \"range\": [2.003297660701705, 5.3], \"ticklen\": 5, \"title\": \"GDP Per Capita (2000 Dollars)\", \"type\": \"log\", \"zerolinewidth\": 1}, \"yaxis\": {\"gridcolor\": \"rgb(255, 255, 255)\", \"gridwidth\": 2, \"range\": [10, 70], \"ticklen\": 5, \"title\": \"Female Stem Graduates from Tertiary Education (%)\", \"zerolinewidth\": 1}}, {\"showLink\": true, \"linkText\": \"Export to plot.ly\", \"plotlyServerURL\": \"https://plot.ly\"})});</script><script type=\"text/javascript\">window.addEventListener(\"resize\", function(){window._Plotly.Plots.resize(document.getElementById(\"ac74470c-6dcd-4480-a804-52e19243f2bc\"));});</script>"
      ]
     },
     "metadata": {},
     "output_type": "display_data"
    }
   ],
   "source": [
    "trace0 = go.Scatter(\n",
    "    x=df_2016_gdp['2016_GDPPerCapita'][df_2016_gdp['Region'] == 'Europe & Central Asia'],\n",
    "    y=df_2016_gdp['2016_stem'][df_2016_gdp['Region'] == 'Europe & Central Asia'],\n",
    "    mode='markers',\n",
    "    name='Europe & Central Asia',\n",
    "    text=df_2016_gdp['Country Name_x'][df_2016_gdp['Region'] == 'Europe & Central Asia'],\n",
    "    marker=dict(\n",
    "        size=40,\n",
    "        opacity=0.5,\n",
    "        line=dict(\n",
    "            width=2\n",
    "        ),\n",
    "        \n",
    "    )\n",
    ")\n",
    "\n",
    "trace1 = go.Scatter(\n",
    "    x=df_2016_gdp['2016_GDPPerCapita'][df_2016_gdp['Region'] == 'North America'],\n",
    "    y=df_2016_gdp['2016_stem'][df_2016_gdp['Region'] == 'North America'],\n",
    "    mode='markers',\n",
    "    name='North America',\n",
    "    text=df_2016_gdp['Country Name_x'][df_2016_gdp['Region'] == 'North America'],\n",
    "    marker=dict(\n",
    "        size=40,\n",
    "        opacity=0.5,\n",
    "        line=dict(\n",
    "            width=2\n",
    "        ),\n",
    "        \n",
    "    )\n",
    ")\n",
    "\n",
    "trace2 = go.Scatter(\n",
    "    x=df_2016_gdp['2016_GDPPerCapita'][df_2016_gdp['Region'] == 'Latin America & Caribbean'],\n",
    "    y=df_2016_gdp['2016_stem'][df_2016_gdp['Region'] == 'Latin America & Caribbean'],\n",
    "    mode='markers',\n",
    "    name='Latin America & Caribbean',\n",
    "    text=df_2016_gdp['Country Name_x'][df_2016_gdp['Region'] == 'Latin America & Caribbean'],\n",
    "    marker=dict(\n",
    "        size=40,\n",
    "        opacity=0.5,\n",
    "        line=dict(\n",
    "            width=2\n",
    "        ),\n",
    "        \n",
    "    )\n",
    ")\n",
    "\n",
    "trace3 = go.Scatter(\n",
    "    x=df_2016_gdp['2016_GDPPerCapita'][df_2016_gdp['Region'] == 'Sub-Saharan Africa'],\n",
    "    y=df_2016_gdp['2016_stem'][df_2016_gdp['Region'] == 'Sub-Saharan Africa'],\n",
    "    mode='markers',\n",
    "    name='Sub-Saharan Africa',\n",
    "    text=df_2016_gdp['Country Name_x'][df_2016_gdp['Region'] == 'Sub-Saharan Africa'],\n",
    "    marker=dict(\n",
    "        size=40,\n",
    "        opacity=0.5,\n",
    "        line=dict(\n",
    "            width=2\n",
    "        ),\n",
    "        \n",
    "    )\n",
    ")\n",
    "\n",
    "trace4 = go.Scatter(\n",
    "    x=df_2016_gdp['2016_GDPPerCapita'][df_2016_gdp['Region'] == 'East Asia & Pacific'],\n",
    "    y=df_2016_gdp['2016_stem'][df_2016_gdp['Region'] == 'East Asia & Pacific'],\n",
    "    mode='markers',\n",
    "    name='East Asia & Pacific',\n",
    "    text=df_2016_gdp['Country Name_x'][df_2016_gdp['Region'] == 'East Asia & Pacific'],\n",
    "    marker=dict(\n",
    "        size=40,\n",
    "        opacity=0.5,\n",
    "        line=dict(\n",
    "            width=2\n",
    "        ),\n",
    "        \n",
    "    )\n",
    ")\n",
    "trace5 = go.Scatter(\n",
    "    x=df_2016_gdp['2016_GDPPerCapita'][df_2016_gdp['Region'] == 'Middle East & North Africa'],\n",
    "    y=df_2016_gdp['2016_stem'][df_2016_gdp['Region'] == 'Middle East & North Africa'],\n",
    "    mode='markers',\n",
    "    name='Middle East & North Africa',\n",
    "    text=df_2016_gdp['Country Name_x'][df_2016_gdp['Region'] == 'Middle East & North Africa'],\n",
    "    marker=dict(\n",
    "        size=40,\n",
    "        opacity=0.5,\n",
    "        line=dict(\n",
    "            width=2\n",
    "        ),\n",
    "        \n",
    "    )\n",
    ")\n",
    "trace6 = go.Scatter(\n",
    "    x=df_2016_gdp['2016_GDPPerCapita'][df_2016_gdp['Region'] == 'South Asia'],\n",
    "    y=df_2016_gdp['2016_stem'][df_2016_gdp['Region'] == 'South Asia'],\n",
    "    mode='markers',\n",
    "    name='South Asia',\n",
    "    text=df_2016_gdp['Country Name_x'][df_2016_gdp['Region'] == 'South Asia'],\n",
    "    marker=dict(\n",
    "        size=40,\n",
    "        opacity=0.5,\n",
    "        line=dict(\n",
    "            width=2\n",
    "        ),\n",
    "        \n",
    "    )\n",
    ")\n",
    "\n",
    "\n",
    "\n",
    "data=[trace0,trace1,trace2,trace3,trace4,trace5,trace6]\n",
    "# range=[2.003297660701705, 5.191505530708712],\n",
    "#         type='log'\n",
    "layout = go.Layout(\n",
    "    title='Percent of Female STEM Graduates from Tertiary Education vs GDP',\n",
    "    xaxis=dict(\n",
    "        title='GDP Per Capita (2000 Dollars)',\n",
    "        gridcolor='rgb(255, 255, 255)',\n",
    "        range=[2.003297660701705, 5.3],\n",
    "        type='log',\n",
    "        zerolinewidth=1,\n",
    "        ticklen=5,\n",
    "        gridwidth=2,\n",
    "    ),\n",
    "    yaxis=dict(\n",
    "        title='Female Stem Graduates from Tertiary Education (%)',\n",
    "        gridcolor='rgb(255, 255, 255)',\n",
    "        range=[10,70],\n",
    "        zerolinewidth=1,\n",
    "        ticklen=5,\n",
    "        gridwidth=2,\n",
    "    ),\n",
    "    paper_bgcolor='rgb(243, 243, 243)',\n",
    "    plot_bgcolor='rgb(243, 243, 243)',\n",
    ")\n",
    "fig=go.Figure(data=data,layout=layout)\n",
    "py.offline.iplot(fig)"
   ]
  },
  {
   "cell_type": "code",
   "execution_count": 27,
   "metadata": {},
   "outputs": [],
   "source": [
    "df_2016_gender=gender_stem[['Country Name_x','2016_GDPPerCapita','2016_gendergap','Region']]\n",
    "df_2016_gender=df_2016_gender.dropna()\n",
    "df_2016_gender['2016_GDPPerCapita']=df_2016_gender['2016_GDPPerCapita']"
   ]
  },
  {
   "cell_type": "code",
   "execution_count": 30,
   "metadata": {},
   "outputs": [
    {
     "data": {
      "application/vnd.plotly.v1+json": {
       "config": {
        "linkText": "Export to plot.ly",
        "plotlyServerURL": "https://plot.ly",
        "showLink": true
       },
       "data": [
        {
         "marker": {
          "line": {
           "width": 2
          },
          "opacity": 0.5,
          "size": 40
         },
         "mode": "markers",
         "name": "Europe & Central Asia",
         "text": [
          "Albania",
          "Armenia",
          "Austria",
          "Azerbaijan",
          "Belgium",
          "Bulgaria",
          "Bosnia and Herzegovina",
          "Belarus",
          "Switzerland",
          "Cyprus",
          "Czech Republic",
          "Denmark",
          "Spain",
          "Estonia",
          "Finland",
          "France",
          "United Kingdom",
          "Georgia",
          "Greece",
          "Croatia",
          "Hungary",
          "Ireland",
          "Iceland",
          "Italy",
          "Kazakhstan",
          "Kyrgyz Republic",
          "Lithuania",
          "Luxembourg",
          "Latvia",
          "Moldova",
          "Macedonia, FYR",
          "Netherlands",
          "Norway",
          "Poland",
          "Portugal",
          "Serbia",
          "Slovak Republic",
          "Slovenia",
          "Sweden",
          "Turkey",
          "Ukraine"
         ],
         "type": "scatter",
         "uid": "4ff4f18b-b642-4cf1-9239-9c419ddc322d",
         "x": [
          4131.872340999999,
          3605.743117,
          44731.01086,
          3880.7387310000004,
          41260.97755,
          7469.447703,
          4808.6360429999995,
          5022.626643,
          79866.03187,
          23541.48825,
          18483.716480000003,
          53578.75657,
          26616.7578,
          17736.8027,
          43433.03222,
          36870.21913,
          40412.03362,
          3865.7856939999997,
          17881.5267,
          12298.57035,
          12820.0882,
          64100.42995,
          60529.92676,
          30668.98143,
          7714.841844,
          1120.6665130000001,
          14912.68654,
          100738.6842,
          14070.42265,
          1913.240367,
          5163.250253,
          45637.88675,
          70890.03557000001,
          12415.043290000001,
          19871.718969999998,
          5426.198279,
          16529.54097,
          21650.21276,
          51844.76126,
          10862.72538,
          2185.7280309999996
         ],
         "y": [
          0.7040000000000001,
          0.669,
          0.716,
          0.684,
          0.745,
          0.726,
          0.685,
          0.737,
          0.7759999999999999,
          0.684,
          0.69,
          0.754,
          0.738,
          0.747,
          0.845,
          0.755,
          0.752,
          0.6809999999999999,
          0.68,
          0.7,
          0.669,
          0.797,
          0.8740000000000001,
          0.7190000000000001,
          0.718,
          0.687,
          0.7440000000000001,
          0.7340000000000001,
          0.755,
          0.741,
          0.696,
          0.7559999999999999,
          0.8420000000000001,
          0.727,
          0.737,
          0.72,
          0.679,
          0.7859999999999999,
          0.815,
          0.623,
          0.7
         ]
        },
        {
         "marker": {
          "line": {
           "width": 2
          },
          "opacity": 0.5,
          "size": 40
         },
         "mode": "markers",
         "name": "North America",
         "text": [
          "Canada",
          "United States"
         ],
         "type": "scatter",
         "uid": "9e29ce06-f2ab-4579-a873-b08f0d7a865d",
         "x": [
          42348.94546,
          57588.53807
         ],
         "y": [
          0.731,
          0.722
         ]
        },
        {
         "marker": {
          "line": {
           "width": 2
          },
          "opacity": 0.5,
          "size": 40
         },
         "mode": "markers",
         "name": "Latin America & Caribbean",
         "text": [
          "Argentina",
          "Belize",
          "Brazil",
          "Chile",
          "Colombia",
          "Costa Rica",
          "Dominican Republic",
          "Ecuador",
          "Guatemala",
          "Honduras",
          "Mexico",
          "Panama",
          "Peru",
          "El Salvador",
          "Uruguay"
         ],
         "type": "scatter",
         "uid": "01a55022-2f65-4920-9938-6c38714dbf5e",
         "x": [
          12654.355,
          4960.181794,
          8639.365743,
          13960.894209999999,
          5756.861602,
          11732.71055,
          6793.538125,
          6018.526868,
          4140.737635,
          2375.0963269999997,
          8443.691923999999,
          14332.97248,
          6031.366091,
          3768.837705,
          15298.35089
         ],
         "y": [
          0.735,
          0.6759999999999999,
          0.687,
          0.6990000000000001,
          0.727,
          0.736,
          0.6759999999999999,
          0.726,
          0.6659999999999999,
          0.69,
          0.7,
          0.721,
          0.687,
          0.7020000000000001,
          0.6809999999999999
         ]
        },
        {
         "marker": {
          "line": {
           "width": 2
          },
          "opacity": 0.5,
          "size": 40
         },
         "mode": "markers",
         "name": "Sub-Saharan Africa",
         "text": [
          "Angola",
          "Burundi",
          "Benin",
          "Burkina Faso",
          "Cabo Verde",
          "Ghana",
          "Gambia, The",
          "Kenya",
          "Lesotho",
          "Madagascar",
          "Mozambique",
          "Mauritania",
          "Namibia",
          "Rwanda",
          "Swaziland",
          "South Africa",
          "Zimbabwe"
         ],
         "type": "scatter",
         "uid": "af6d8ebd-1e85-4590-b7a8-753d71467e5b",
         "x": [
          3308.772828,
          285.7274421,
          788.5324423999999,
          613.9931275,
          3037.525642,
          1517.495508,
          472.3064382,
          1462.505115,
          1039.703303,
          401.74226539999995,
          382.069457,
          1101.901529,
          4560.7020600000005,
          711.1957913,
          2770.199475,
          5280.0176329999995,
          1029.076649
         ],
         "y": [
          0.643,
          0.768,
          0.636,
          0.64,
          0.7290000000000001,
          0.705,
          0.667,
          0.7020000000000001,
          0.706,
          0.7040000000000001,
          0.75,
          0.624,
          0.765,
          0.8,
          0.665,
          0.764,
          0.71
         ]
        },
        {
         "marker": {
          "line": {
           "width": 2
          },
          "opacity": 0.5,
          "size": 40
         },
         "mode": "markers",
         "name": "East Asia & Pacific",
         "text": [
          "Australia",
          "Brunei Darussalam",
          "Indonesia",
          "Cambodia",
          "Korea, Rep.",
          "Lao PDR",
          "Mongolia",
          "Malaysia",
          "New Zealand",
          "Philippines",
          "Singapore",
          "Thailand",
          "Vietnam"
         ],
         "type": "scatter",
         "uid": "b7ab4e2f-a295-47e9-9043-a3ffea3a7c4d",
         "x": [
          49896.6811,
          26939.41805,
          3570.284615,
          1269.907238,
          27608.24743,
          2338.692157,
          3694.0825520000003,
          9508.23775,
          40331.9591,
          2950.913903,
          55243.13288,
          5979.293546,
          2170.648054
         ],
         "y": [
          0.721,
          0.669,
          0.682,
          0.6579999999999999,
          0.649,
          0.7240000000000001,
          0.705,
          0.6659999999999999,
          0.7809999999999999,
          0.7859999999999999,
          0.7120000000000001,
          0.6990000000000001,
          0.7
         ]
        },
        {
         "marker": {
          "line": {
           "width": 2
          },
          "opacity": 0.5,
          "size": 40
         },
         "mode": "markers",
         "name": "Middle East & North Africa",
         "text": [
          "United Arab Emirates",
          "Bahrain",
          "Algeria",
          "Egypt, Arab Rep.",
          "Iran, Islamic Rep.",
          "Morocco",
          "Malta",
          "Oman",
          "Qatar",
          "Saudi Arabia",
          "Tunisia"
         ],
         "type": "scatter",
         "uid": "5e0ec26d-b37d-4441-b624-b4c45c224159",
         "x": [
          38517.80039,
          22560.58127,
          3916.881571,
          3479.281246,
          5219.109805,
          2892.775561,
          24770.806569999997,
          15102.382309999999,
          59324.33877,
          19982.08563,
          3688.646375
         ],
         "y": [
          0.639,
          0.615,
          0.642,
          0.614,
          0.5870000000000001,
          0.597,
          0.664,
          0.612,
          0.643,
          0.583,
          0.636
         ]
        },
        {
         "marker": {
          "line": {
           "width": 2
          },
          "opacity": 0.5,
          "size": 40
         },
         "mode": "markers",
         "name": "South Asia",
         "text": [
          "Bangladesh",
          "India",
          "Sri Lanka"
         ],
         "type": "scatter",
         "uid": "d78c33cd-c105-48ab-b90c-ebd86092ffe4",
         "x": [
          1358.7790289999998,
          1717.473878,
          3857.3963630000003
         ],
         "y": [
          0.698,
          0.6829999999999999,
          0.6729999999999999
         ]
        }
       ],
       "layout": {
        "paper_bgcolor": "rgb(243, 243, 243)",
        "plot_bgcolor": "rgb(243, 243, 243)",
        "title": "Gender Gap Index vs GDP",
        "xaxis": {
         "gridcolor": "rgb(255, 255, 255)",
         "gridwidth": 2,
         "range": [
          2.003297660701705,
          5.3
         ],
         "ticklen": 5,
         "title": "GDP Per Capita (2000 Dollars)",
         "type": "log",
         "zerolinewidth": 1
        },
        "yaxis": {
         "gridcolor": "rgb(255, 255, 255)",
         "gridwidth": 2,
         "range": [
          0,
          1
         ],
         "ticklen": 5,
         "title": "Gender Gap Index",
         "zerolinewidth": 1
        }
       }
      },
      "text/html": [
       "<div id=\"ad8c458e-ac36-43f5-8774-4bc3361cc1ba\" style=\"height: 525px; width: 100%;\" class=\"plotly-graph-div\"></div><script type=\"text/javascript\">require([\"plotly\"], function(Plotly) { window.PLOTLYENV=window.PLOTLYENV || {};window.PLOTLYENV.BASE_URL=\"https://plot.ly\";Plotly.newPlot(\"ad8c458e-ac36-43f5-8774-4bc3361cc1ba\", [{\"marker\": {\"line\": {\"width\": 2}, \"opacity\": 0.5, \"size\": 40}, \"mode\": \"markers\", \"name\": \"Europe & Central Asia\", \"text\": [\"Albania\", \"Armenia\", \"Austria\", \"Azerbaijan\", \"Belgium\", \"Bulgaria\", \"Bosnia and Herzegovina\", \"Belarus\", \"Switzerland\", \"Cyprus\", \"Czech Republic\", \"Denmark\", \"Spain\", \"Estonia\", \"Finland\", \"France\", \"United Kingdom\", \"Georgia\", \"Greece\", \"Croatia\", \"Hungary\", \"Ireland\", \"Iceland\", \"Italy\", \"Kazakhstan\", \"Kyrgyz Republic\", \"Lithuania\", \"Luxembourg\", \"Latvia\", \"Moldova\", \"Macedonia, FYR\", \"Netherlands\", \"Norway\", \"Poland\", \"Portugal\", \"Serbia\", \"Slovak Republic\", \"Slovenia\", \"Sweden\", \"Turkey\", \"Ukraine\"], \"x\": [4131.872340999999, 3605.743117, 44731.01086, 3880.7387310000004, 41260.97755, 7469.447703, 4808.6360429999995, 5022.626643, 79866.03187, 23541.48825, 18483.716480000003, 53578.75657, 26616.7578, 17736.8027, 43433.03222, 36870.21913, 40412.03362, 3865.7856939999997, 17881.5267, 12298.57035, 12820.0882, 64100.42995, 60529.92676, 30668.98143, 7714.841844, 1120.6665130000001, 14912.68654, 100738.6842, 14070.42265, 1913.240367, 5163.250253, 45637.88675, 70890.03557000001, 12415.043290000001, 19871.718969999998, 5426.198279, 16529.54097, 21650.21276, 51844.76126, 10862.72538, 2185.7280309999996], \"y\": [0.7040000000000001, 0.669, 0.716, 0.684, 0.745, 0.726, 0.685, 0.737, 0.7759999999999999, 0.684, 0.69, 0.754, 0.738, 0.747, 0.845, 0.755, 0.752, 0.6809999999999999, 0.68, 0.7, 0.669, 0.797, 0.8740000000000001, 0.7190000000000001, 0.718, 0.687, 0.7440000000000001, 0.7340000000000001, 0.755, 0.741, 0.696, 0.7559999999999999, 0.8420000000000001, 0.727, 0.737, 0.72, 0.679, 0.7859999999999999, 0.815, 0.623, 0.7], \"type\": \"scatter\", \"uid\": \"4ff4f18b-b642-4cf1-9239-9c419ddc322d\"}, {\"marker\": {\"line\": {\"width\": 2}, \"opacity\": 0.5, \"size\": 40}, \"mode\": \"markers\", \"name\": \"North America\", \"text\": [\"Canada\", \"United States\"], \"x\": [42348.94546, 57588.53807], \"y\": [0.731, 0.722], \"type\": \"scatter\", \"uid\": \"9e29ce06-f2ab-4579-a873-b08f0d7a865d\"}, {\"marker\": {\"line\": {\"width\": 2}, \"opacity\": 0.5, \"size\": 40}, \"mode\": \"markers\", \"name\": \"Latin America & Caribbean\", \"text\": [\"Argentina\", \"Belize\", \"Brazil\", \"Chile\", \"Colombia\", \"Costa Rica\", \"Dominican Republic\", \"Ecuador\", \"Guatemala\", \"Honduras\", \"Mexico\", \"Panama\", \"Peru\", \"El Salvador\", \"Uruguay\"], \"x\": [12654.355, 4960.181794, 8639.365743, 13960.894209999999, 5756.861602, 11732.71055, 6793.538125, 6018.526868, 4140.737635, 2375.0963269999997, 8443.691923999999, 14332.97248, 6031.366091, 3768.837705, 15298.35089], \"y\": [0.735, 0.6759999999999999, 0.687, 0.6990000000000001, 0.727, 0.736, 0.6759999999999999, 0.726, 0.6659999999999999, 0.69, 0.7, 0.721, 0.687, 0.7020000000000001, 0.6809999999999999], \"type\": \"scatter\", \"uid\": \"01a55022-2f65-4920-9938-6c38714dbf5e\"}, {\"marker\": {\"line\": {\"width\": 2}, \"opacity\": 0.5, \"size\": 40}, \"mode\": \"markers\", \"name\": \"Sub-Saharan Africa\", \"text\": [\"Angola\", \"Burundi\", \"Benin\", \"Burkina Faso\", \"Cabo Verde\", \"Ghana\", \"Gambia, The\", \"Kenya\", \"Lesotho\", \"Madagascar\", \"Mozambique\", \"Mauritania\", \"Namibia\", \"Rwanda\", \"Swaziland\", \"South Africa\", \"Zimbabwe\"], \"x\": [3308.772828, 285.7274421, 788.5324423999999, 613.9931275, 3037.525642, 1517.495508, 472.3064382, 1462.505115, 1039.703303, 401.74226539999995, 382.069457, 1101.901529, 4560.7020600000005, 711.1957913, 2770.199475, 5280.0176329999995, 1029.076649], \"y\": [0.643, 0.768, 0.636, 0.64, 0.7290000000000001, 0.705, 0.667, 0.7020000000000001, 0.706, 0.7040000000000001, 0.75, 0.624, 0.765, 0.8, 0.665, 0.764, 0.71], \"type\": \"scatter\", \"uid\": \"af6d8ebd-1e85-4590-b7a8-753d71467e5b\"}, {\"marker\": {\"line\": {\"width\": 2}, \"opacity\": 0.5, \"size\": 40}, \"mode\": \"markers\", \"name\": \"East Asia & Pacific\", \"text\": [\"Australia\", \"Brunei Darussalam\", \"Indonesia\", \"Cambodia\", \"Korea, Rep.\", \"Lao PDR\", \"Mongolia\", \"Malaysia\", \"New Zealand\", \"Philippines\", \"Singapore\", \"Thailand\", \"Vietnam\"], \"x\": [49896.6811, 26939.41805, 3570.284615, 1269.907238, 27608.24743, 2338.692157, 3694.0825520000003, 9508.23775, 40331.9591, 2950.913903, 55243.13288, 5979.293546, 2170.648054], \"y\": [0.721, 0.669, 0.682, 0.6579999999999999, 0.649, 0.7240000000000001, 0.705, 0.6659999999999999, 0.7809999999999999, 0.7859999999999999, 0.7120000000000001, 0.6990000000000001, 0.7], \"type\": \"scatter\", \"uid\": \"b7ab4e2f-a295-47e9-9043-a3ffea3a7c4d\"}, {\"marker\": {\"line\": {\"width\": 2}, \"opacity\": 0.5, \"size\": 40}, \"mode\": \"markers\", \"name\": \"Middle East & North Africa\", \"text\": [\"United Arab Emirates\", \"Bahrain\", \"Algeria\", \"Egypt, Arab Rep.\", \"Iran, Islamic Rep.\", \"Morocco\", \"Malta\", \"Oman\", \"Qatar\", \"Saudi Arabia\", \"Tunisia\"], \"x\": [38517.80039, 22560.58127, 3916.881571, 3479.281246, 5219.109805, 2892.775561, 24770.806569999997, 15102.382309999999, 59324.33877, 19982.08563, 3688.646375], \"y\": [0.639, 0.615, 0.642, 0.614, 0.5870000000000001, 0.597, 0.664, 0.612, 0.643, 0.583, 0.636], \"type\": \"scatter\", \"uid\": \"5e0ec26d-b37d-4441-b624-b4c45c224159\"}, {\"marker\": {\"line\": {\"width\": 2}, \"opacity\": 0.5, \"size\": 40}, \"mode\": \"markers\", \"name\": \"South Asia\", \"text\": [\"Bangladesh\", \"India\", \"Sri Lanka\"], \"x\": [1358.7790289999998, 1717.473878, 3857.3963630000003], \"y\": [0.698, 0.6829999999999999, 0.6729999999999999], \"type\": \"scatter\", \"uid\": \"d78c33cd-c105-48ab-b90c-ebd86092ffe4\"}], {\"paper_bgcolor\": \"rgb(243, 243, 243)\", \"plot_bgcolor\": \"rgb(243, 243, 243)\", \"title\": \"Gender Gap Index vs GDP\", \"xaxis\": {\"gridcolor\": \"rgb(255, 255, 255)\", \"gridwidth\": 2, \"range\": [2.003297660701705, 5.3], \"ticklen\": 5, \"title\": \"GDP Per Capita (2000 Dollars)\", \"type\": \"log\", \"zerolinewidth\": 1}, \"yaxis\": {\"gridcolor\": \"rgb(255, 255, 255)\", \"gridwidth\": 2, \"range\": [0, 1], \"ticklen\": 5, \"title\": \"Gender Gap Index\", \"zerolinewidth\": 1}}, {\"showLink\": true, \"linkText\": \"Export to plot.ly\", \"plotlyServerURL\": \"https://plot.ly\"})});</script><script type=\"text/javascript\">window.addEventListener(\"resize\", function(){window._Plotly.Plots.resize(document.getElementById(\"ad8c458e-ac36-43f5-8774-4bc3361cc1ba\"));});</script>"
      ],
      "text/vnd.plotly.v1+html": [
       "<div id=\"ad8c458e-ac36-43f5-8774-4bc3361cc1ba\" style=\"height: 525px; width: 100%;\" class=\"plotly-graph-div\"></div><script type=\"text/javascript\">require([\"plotly\"], function(Plotly) { window.PLOTLYENV=window.PLOTLYENV || {};window.PLOTLYENV.BASE_URL=\"https://plot.ly\";Plotly.newPlot(\"ad8c458e-ac36-43f5-8774-4bc3361cc1ba\", [{\"marker\": {\"line\": {\"width\": 2}, \"opacity\": 0.5, \"size\": 40}, \"mode\": \"markers\", \"name\": \"Europe & Central Asia\", \"text\": [\"Albania\", \"Armenia\", \"Austria\", \"Azerbaijan\", \"Belgium\", \"Bulgaria\", \"Bosnia and Herzegovina\", \"Belarus\", \"Switzerland\", \"Cyprus\", \"Czech Republic\", \"Denmark\", \"Spain\", \"Estonia\", \"Finland\", \"France\", \"United Kingdom\", \"Georgia\", \"Greece\", \"Croatia\", \"Hungary\", \"Ireland\", \"Iceland\", \"Italy\", \"Kazakhstan\", \"Kyrgyz Republic\", \"Lithuania\", \"Luxembourg\", \"Latvia\", \"Moldova\", \"Macedonia, FYR\", \"Netherlands\", \"Norway\", \"Poland\", \"Portugal\", \"Serbia\", \"Slovak Republic\", \"Slovenia\", \"Sweden\", \"Turkey\", \"Ukraine\"], \"x\": [4131.872340999999, 3605.743117, 44731.01086, 3880.7387310000004, 41260.97755, 7469.447703, 4808.6360429999995, 5022.626643, 79866.03187, 23541.48825, 18483.716480000003, 53578.75657, 26616.7578, 17736.8027, 43433.03222, 36870.21913, 40412.03362, 3865.7856939999997, 17881.5267, 12298.57035, 12820.0882, 64100.42995, 60529.92676, 30668.98143, 7714.841844, 1120.6665130000001, 14912.68654, 100738.6842, 14070.42265, 1913.240367, 5163.250253, 45637.88675, 70890.03557000001, 12415.043290000001, 19871.718969999998, 5426.198279, 16529.54097, 21650.21276, 51844.76126, 10862.72538, 2185.7280309999996], \"y\": [0.7040000000000001, 0.669, 0.716, 0.684, 0.745, 0.726, 0.685, 0.737, 0.7759999999999999, 0.684, 0.69, 0.754, 0.738, 0.747, 0.845, 0.755, 0.752, 0.6809999999999999, 0.68, 0.7, 0.669, 0.797, 0.8740000000000001, 0.7190000000000001, 0.718, 0.687, 0.7440000000000001, 0.7340000000000001, 0.755, 0.741, 0.696, 0.7559999999999999, 0.8420000000000001, 0.727, 0.737, 0.72, 0.679, 0.7859999999999999, 0.815, 0.623, 0.7], \"type\": \"scatter\", \"uid\": \"4ff4f18b-b642-4cf1-9239-9c419ddc322d\"}, {\"marker\": {\"line\": {\"width\": 2}, \"opacity\": 0.5, \"size\": 40}, \"mode\": \"markers\", \"name\": \"North America\", \"text\": [\"Canada\", \"United States\"], \"x\": [42348.94546, 57588.53807], \"y\": [0.731, 0.722], \"type\": \"scatter\", \"uid\": \"9e29ce06-f2ab-4579-a873-b08f0d7a865d\"}, {\"marker\": {\"line\": {\"width\": 2}, \"opacity\": 0.5, \"size\": 40}, \"mode\": \"markers\", \"name\": \"Latin America & Caribbean\", \"text\": [\"Argentina\", \"Belize\", \"Brazil\", \"Chile\", \"Colombia\", \"Costa Rica\", \"Dominican Republic\", \"Ecuador\", \"Guatemala\", \"Honduras\", \"Mexico\", \"Panama\", \"Peru\", \"El Salvador\", \"Uruguay\"], \"x\": [12654.355, 4960.181794, 8639.365743, 13960.894209999999, 5756.861602, 11732.71055, 6793.538125, 6018.526868, 4140.737635, 2375.0963269999997, 8443.691923999999, 14332.97248, 6031.366091, 3768.837705, 15298.35089], \"y\": [0.735, 0.6759999999999999, 0.687, 0.6990000000000001, 0.727, 0.736, 0.6759999999999999, 0.726, 0.6659999999999999, 0.69, 0.7, 0.721, 0.687, 0.7020000000000001, 0.6809999999999999], \"type\": \"scatter\", \"uid\": \"01a55022-2f65-4920-9938-6c38714dbf5e\"}, {\"marker\": {\"line\": {\"width\": 2}, \"opacity\": 0.5, \"size\": 40}, \"mode\": \"markers\", \"name\": \"Sub-Saharan Africa\", \"text\": [\"Angola\", \"Burundi\", \"Benin\", \"Burkina Faso\", \"Cabo Verde\", \"Ghana\", \"Gambia, The\", \"Kenya\", \"Lesotho\", \"Madagascar\", \"Mozambique\", \"Mauritania\", \"Namibia\", \"Rwanda\", \"Swaziland\", \"South Africa\", \"Zimbabwe\"], \"x\": [3308.772828, 285.7274421, 788.5324423999999, 613.9931275, 3037.525642, 1517.495508, 472.3064382, 1462.505115, 1039.703303, 401.74226539999995, 382.069457, 1101.901529, 4560.7020600000005, 711.1957913, 2770.199475, 5280.0176329999995, 1029.076649], \"y\": [0.643, 0.768, 0.636, 0.64, 0.7290000000000001, 0.705, 0.667, 0.7020000000000001, 0.706, 0.7040000000000001, 0.75, 0.624, 0.765, 0.8, 0.665, 0.764, 0.71], \"type\": \"scatter\", \"uid\": \"af6d8ebd-1e85-4590-b7a8-753d71467e5b\"}, {\"marker\": {\"line\": {\"width\": 2}, \"opacity\": 0.5, \"size\": 40}, \"mode\": \"markers\", \"name\": \"East Asia & Pacific\", \"text\": [\"Australia\", \"Brunei Darussalam\", \"Indonesia\", \"Cambodia\", \"Korea, Rep.\", \"Lao PDR\", \"Mongolia\", \"Malaysia\", \"New Zealand\", \"Philippines\", \"Singapore\", \"Thailand\", \"Vietnam\"], \"x\": [49896.6811, 26939.41805, 3570.284615, 1269.907238, 27608.24743, 2338.692157, 3694.0825520000003, 9508.23775, 40331.9591, 2950.913903, 55243.13288, 5979.293546, 2170.648054], \"y\": [0.721, 0.669, 0.682, 0.6579999999999999, 0.649, 0.7240000000000001, 0.705, 0.6659999999999999, 0.7809999999999999, 0.7859999999999999, 0.7120000000000001, 0.6990000000000001, 0.7], \"type\": \"scatter\", \"uid\": \"b7ab4e2f-a295-47e9-9043-a3ffea3a7c4d\"}, {\"marker\": {\"line\": {\"width\": 2}, \"opacity\": 0.5, \"size\": 40}, \"mode\": \"markers\", \"name\": \"Middle East & North Africa\", \"text\": [\"United Arab Emirates\", \"Bahrain\", \"Algeria\", \"Egypt, Arab Rep.\", \"Iran, Islamic Rep.\", \"Morocco\", \"Malta\", \"Oman\", \"Qatar\", \"Saudi Arabia\", \"Tunisia\"], \"x\": [38517.80039, 22560.58127, 3916.881571, 3479.281246, 5219.109805, 2892.775561, 24770.806569999997, 15102.382309999999, 59324.33877, 19982.08563, 3688.646375], \"y\": [0.639, 0.615, 0.642, 0.614, 0.5870000000000001, 0.597, 0.664, 0.612, 0.643, 0.583, 0.636], \"type\": \"scatter\", \"uid\": \"5e0ec26d-b37d-4441-b624-b4c45c224159\"}, {\"marker\": {\"line\": {\"width\": 2}, \"opacity\": 0.5, \"size\": 40}, \"mode\": \"markers\", \"name\": \"South Asia\", \"text\": [\"Bangladesh\", \"India\", \"Sri Lanka\"], \"x\": [1358.7790289999998, 1717.473878, 3857.3963630000003], \"y\": [0.698, 0.6829999999999999, 0.6729999999999999], \"type\": \"scatter\", \"uid\": \"d78c33cd-c105-48ab-b90c-ebd86092ffe4\"}], {\"paper_bgcolor\": \"rgb(243, 243, 243)\", \"plot_bgcolor\": \"rgb(243, 243, 243)\", \"title\": \"Gender Gap Index vs GDP\", \"xaxis\": {\"gridcolor\": \"rgb(255, 255, 255)\", \"gridwidth\": 2, \"range\": [2.003297660701705, 5.3], \"ticklen\": 5, \"title\": \"GDP Per Capita (2000 Dollars)\", \"type\": \"log\", \"zerolinewidth\": 1}, \"yaxis\": {\"gridcolor\": \"rgb(255, 255, 255)\", \"gridwidth\": 2, \"range\": [0, 1], \"ticklen\": 5, \"title\": \"Gender Gap Index\", \"zerolinewidth\": 1}}, {\"showLink\": true, \"linkText\": \"Export to plot.ly\", \"plotlyServerURL\": \"https://plot.ly\"})});</script><script type=\"text/javascript\">window.addEventListener(\"resize\", function(){window._Plotly.Plots.resize(document.getElementById(\"ad8c458e-ac36-43f5-8774-4bc3361cc1ba\"));});</script>"
      ]
     },
     "metadata": {},
     "output_type": "display_data"
    }
   ],
   "source": [
    "trace0 = go.Scatter(\n",
    "    x=df_2016_gender['2016_GDPPerCapita'][df_2016_gender['Region'] == 'Europe & Central Asia'],\n",
    "    y=df_2016_gender['2016_gendergap'][df_2016_gender['Region'] == 'Europe & Central Asia'],\n",
    "    mode='markers',\n",
    "    name='Europe & Central Asia',\n",
    "    text=df_2016_gender['Country Name_x'][df_2016_gender['Region'] == 'Europe & Central Asia'],\n",
    "    marker=dict(\n",
    "        size=40,\n",
    "        opacity=0.5,\n",
    "        line=dict(\n",
    "            width=2\n",
    "        ),\n",
    "        \n",
    "    )\n",
    ")\n",
    "\n",
    "trace1 = go.Scatter(\n",
    "    x=df_2016_gender['2016_GDPPerCapita'][df_2016_gender['Region'] == 'North America'],\n",
    "    y=df_2016_gender['2016_gendergap'][df_2016_gender['Region'] == 'North America'],\n",
    "    mode='markers',\n",
    "    name='North America',\n",
    "    text=df_2016_gender['Country Name_x'][df_2016_gender['Region'] == 'North America'],\n",
    "    marker=dict(\n",
    "        size=40,\n",
    "        opacity=0.5,\n",
    "        line=dict(\n",
    "            width=2\n",
    "        ),\n",
    "        \n",
    "    )\n",
    ")\n",
    "\n",
    "trace2 = go.Scatter(\n",
    "    x=df_2016_gender['2016_GDPPerCapita'][df_2016_gender['Region'] == 'Latin America & Caribbean'],\n",
    "    y=df_2016_gender['2016_gendergap'][df_2016_gender['Region'] == 'Latin America & Caribbean'],\n",
    "    mode='markers',\n",
    "    name='Latin America & Caribbean',\n",
    "    text=df_2016_gender['Country Name_x'][df_2016_gender['Region'] == 'Latin America & Caribbean'],\n",
    "    marker=dict(\n",
    "        size=40,\n",
    "        opacity=0.5,\n",
    "        line=dict(\n",
    "            width=2\n",
    "        ),\n",
    "        \n",
    "    )\n",
    ")\n",
    "\n",
    "trace3 = go.Scatter(\n",
    "    x=df_2016_gender['2016_GDPPerCapita'][df_2016_gender['Region'] == 'Sub-Saharan Africa'],\n",
    "    y=df_2016_gender['2016_gendergap'][df_2016_gender['Region'] == 'Sub-Saharan Africa'],\n",
    "    mode='markers',\n",
    "    name='Sub-Saharan Africa',\n",
    "    text=df_2016_gender['Country Name_x'][df_2016_gender['Region'] == 'Sub-Saharan Africa'],\n",
    "    marker=dict(\n",
    "        size=40,\n",
    "        opacity=0.5,\n",
    "        line=dict(\n",
    "            width=2\n",
    "        ),\n",
    "        \n",
    "    )\n",
    ")\n",
    "\n",
    "trace4 = go.Scatter(\n",
    "    x=df_2016_gender['2016_GDPPerCapita'][df_2016_gender['Region'] == 'East Asia & Pacific'],\n",
    "    y=df_2016_gender['2016_gendergap'][df_2016_gender['Region'] == 'East Asia & Pacific'],\n",
    "    mode='markers',\n",
    "    name='East Asia & Pacific',\n",
    "    text=df_2016_gender['Country Name_x'][df_2016_gender['Region'] == 'East Asia & Pacific'],\n",
    "    marker=dict(\n",
    "        size=40,\n",
    "        opacity=0.5,\n",
    "        line=dict(\n",
    "            width=2\n",
    "        ),\n",
    "        \n",
    "    )\n",
    ")\n",
    "trace5 = go.Scatter(\n",
    "    x=df_2016_gender['2016_GDPPerCapita'][df_2016_gender['Region'] == 'Middle East & North Africa'],\n",
    "    y=df_2016_gender['2016_gendergap'][df_2016_gender['Region'] == 'Middle East & North Africa'],\n",
    "    mode='markers',\n",
    "    name='Middle East & North Africa',\n",
    "    text=df_2016_gender['Country Name_x'][df_2016_gender['Region'] == 'Middle East & North Africa'],\n",
    "    marker=dict(\n",
    "        size=40,\n",
    "        opacity=0.5,\n",
    "        line=dict(\n",
    "            width=2\n",
    "        ),\n",
    "        \n",
    "    )\n",
    ")\n",
    "trace6 = go.Scatter(\n",
    "    x=df_2016_gender['2016_GDPPerCapita'][df_2016_gender['Region'] == 'South Asia'],\n",
    "    y=df_2016_gender['2016_gendergap'][df_2016_gender['Region'] == 'South Asia'],\n",
    "    mode='markers',\n",
    "    name='South Asia',\n",
    "    text=df_2016_gender['Country Name_x'][df_2016_gender['Region'] == 'South Asia'],\n",
    "    marker=dict(\n",
    "        size=40,\n",
    "        opacity=0.5,\n",
    "        line=dict(\n",
    "            width=2\n",
    "        ),\n",
    "        \n",
    "    )\n",
    ")\n",
    "\n",
    "\n",
    "\n",
    "data=[trace0,trace1,trace2,trace3,trace4,trace5,trace6]\n",
    "# range=[2.003297660701705, 5.191505530708712],\n",
    "#         type='log'\n",
    "layout = go.Layout(\n",
    "    title='Gender Gap Index vs GDP',\n",
    "    xaxis=dict(\n",
    "        title='GDP Per Capita (2000 Dollars)',\n",
    "        gridcolor='rgb(255, 255, 255)',\n",
    "        range=[2.003297660701705, 5.3],\n",
    "        type='log',\n",
    "        zerolinewidth=1,\n",
    "        ticklen=5,\n",
    "        gridwidth=2,\n",
    "    ),\n",
    "    yaxis=dict(\n",
    "        title='Gender Gap Index',\n",
    "        gridcolor='rgb(255, 255, 255)',\n",
    "        range=[0,1],\n",
    "        zerolinewidth=1,\n",
    "        ticklen=5,\n",
    "        gridwidth=2,\n",
    "    ),\n",
    "    paper_bgcolor='rgb(243, 243, 243)',\n",
    "    plot_bgcolor='rgb(243, 243, 243)',\n",
    ")\n",
    "fig=go.Figure(data=data,layout=layout)\n",
    "py.offline.iplot(fig)"
   ]
  },
  {
   "cell_type": "code",
   "execution_count": null,
   "metadata": {},
   "outputs": [],
   "source": []
  }
 ],
 "metadata": {
  "kernelspec": {
   "display_name": "Python 3",
   "language": "python",
   "name": "python3"
  },
  "language_info": {
   "codemirror_mode": {
    "name": "ipython",
    "version": 3
   },
   "file_extension": ".py",
   "mimetype": "text/x-python",
   "name": "python",
   "nbconvert_exporter": "python",
   "pygments_lexer": "ipython3",
   "version": "3.7.0"
  }
 },
 "nbformat": 4,
 "nbformat_minor": 2
}
